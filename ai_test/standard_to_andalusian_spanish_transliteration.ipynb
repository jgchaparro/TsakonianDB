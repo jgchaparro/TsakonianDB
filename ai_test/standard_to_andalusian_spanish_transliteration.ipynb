{
 "cells": [
  {
   "cell_type": "markdown",
   "metadata": {},
   "source": [
    "# Custom Andalusian speech transliteration notebook"
   ]
  },
  {
   "cell_type": "markdown",
   "metadata": {},
   "source": [
    "# Preparation"
   ]
  },
  {
   "cell_type": "code",
   "execution_count": null,
   "metadata": {},
   "outputs": [],
   "source": [
    "# Imports\n",
    "import re\n",
    "import itertools    \n",
    "import roman"
   ]
  },
  {
   "cell_type": "code",
   "execution_count": null,
   "metadata": {},
   "outputs": [],
   "source": [
    "# Set a sample text to transliterate\n",
    "text = \"\"\"\n",
    "Málaga, ciudad bañada por el sol y cuna de artistas, te invita a descubrir su encanto. Desde sus playas paradisíacas en la Costa del Sol hasta su rica historia y cultura, con la Alcazaba, el Teatro Romano y el Museo Picasso como estandartes. Déjate envolver por la gastronomía malagueña, con sus espetos de sardinas, gazpacho, boquerones en vinagre y deliciosas tapas. Disfruta del ambiente acogedor de la ciudad, paseando por sus calles, terrazas y animada vida nocturna. Explora la naturaleza exuberante de sus Montes de Málaga y el Caminito del Rey. Déjate llevar por sus fiestas y tradiciones, como la Feria de Málaga o la Semana Santa. Admira el arte y la artesanía local, encuentra todo lo que buscas en sus tiendas y mercados. Málaga es un destino perfecto para familias, parejas, amigos, amantes de la cultura y la naturaleza. Ven a Málaga y descubre un sinfín de experiencias que te enamorarán.\n",
    "\"\"\""
   ]
  },
  {
   "cell_type": "code",
   "execution_count": null,
   "metadata": {},
   "outputs": [
    {
     "name": "stdout",
     "output_type": "stream",
     "text": [
      "La serenata es una forma musical concebida para orquesta de cuerda\n",
      "de viento\n",
      "mixta\n",
      "conjunto de cámara o percusión.\n",
      "\n",
      "Fue un divertimento que alcanzó enorme popularidad durante el siglo xviii: La serenata se tocaba\n",
      "al anochecer\n",
      "muchas veces al aire libre\n",
      "y hacía las delicias de las veladas en los jardines de los palacios de los aristócratas. Curiosamente el nombre no deriva de sera\n",
      "que en italiano es «tarde»\n",
      "sino de sereno\n",
      "«calmado» o «reposado». El origen de la serenata está en las baladas que los enamorados cantaban frente a las ventanas de la amada al atardecer cuando algo no había salido bien en la relación.\n",
      "\n",
      "En el siglo xviii\n",
      "constaba de hasta diez movimientos. Wolfgang Amadeus Mozart compuso trece serenatas\n",
      "normalmente para celebrar un acto social: bodas\n",
      "fiestas cortesanas\n",
      "etc. Las serenatas de Mozart comienzan con un movimiento de marcha que tiene forma de sonata; dos movimientos lentos alternan con dos minuetos; siguen un rondó y un final muy brillante\n",
      "que a veces también es una marcha. Ludwig van Beethoven compuso serenatas con trío de cuerdas (Op.8) y para flauta\n",
      "violín y viola (Op.25). En el siglo xix se compusieron serenatas para orquestas (Brahms\n",
      "Dvorak\n",
      "entre otros). También se conciben las serenatas como canción o lied (Franz Schubert\n",
      "Richard Strauss\n",
      "Hugo Wolf\n",
      "Massenet...) o para ser tocadas por un instrumento\n",
      "como el piano (Isaac Albéniz\n",
      "Claude Debussy y Ravel).\n"
     ]
    }
   ],
   "source": [
    "def show_text(text):\n",
    "    \"\"\"\n",
    "    Formats the text for ease of use\n",
    "    \"\"\"\n",
    "    lines = text.split(', ')\n",
    "    for line in lines:\n",
    "        print(line.strip())\n",
    "\n",
    "show_text(text)"
   ]
  },
  {
   "cell_type": "markdown",
   "metadata": {},
   "source": [
    "## Utils"
   ]
  },
  {
   "cell_type": "code",
   "execution_count": null,
   "metadata": {},
   "outputs": [],
   "source": [
    "# Sets\n",
    "non_accented_vowels = 'aeiouAEIOUÜ'\n",
    "accented_vowels = 'áéíóúüÁÉÍÓÚ'\n",
    "vowels = non_accented_vowels + accented_vowels\n",
    "\n",
    "original_consonants = 'bcdfghjklmnñpqrstvwxyzBCDFGHJKLMNÑPQRSTVWXYZ'\n",
    "new_consonants = 'ʌъƨьɿзбɅЪƧЬႨЗГБ'\n",
    "consonants = original_consonants + new_consonants\n",
    "\n",
    "letters = vowels + consonants\n",
    "\n",
    "stopchars = '.,:;?!¡¿ $\\(\\)\\[\\]\\{\\}«»'"
   ]
  },
  {
   "cell_type": "code",
   "execution_count": null,
   "metadata": {},
   "outputs": [],
   "source": [
    "# Common replacements\n",
    "to_accented_vowel = {\n",
    "    'a': 'á',\n",
    "    'e': 'é',\n",
    "    'i': 'í',\n",
    "    'o': 'ó',\n",
    "    'u': 'ú',\n",
    "    'A': 'Á',\n",
    "    'E': 'É',\n",
    "    'I': 'Í',\n",
    "    'O': 'Ó',\n",
    "    'U': 'Ú',\n",
    "}\n",
    "\n",
    "to_non_accented_vowel = {\n",
    "    'á': 'a',\n",
    "    'é': 'e',\n",
    "    'í': 'i',\n",
    "    'ó': 'o',\n",
    "    'ú': 'u',\n",
    "    'Á': 'A',\n",
    "    'É': 'E',\n",
    "    'Í': 'I',\n",
    "    'Ó': 'O',\n",
    "    'Ú': 'U', \n",
    "}"
   ]
  },
  {
   "cell_type": "code",
   "execution_count": null,
   "metadata": {},
   "outputs": [],
   "source": [
    "# Uppercasing and lowercasing\n",
    "uppercase = {\n",
    "    'a' : 'A',\n",
    "    'б' : 'Б',\n",
    "    'c' : 'C',\n",
    "    'd' : 'D',\n",
    "    'e' : 'E',\n",
    "    'f' : 'F',\n",
    "    'ƨ' : 'Ƨ',\n",
    "    'ь' : 'Ь',\n",
    "    'i' : 'I',\n",
    "    'l' : 'L',\n",
    "    'm' : 'M',\n",
    "    'n' : 'N',\n",
    "    'o' : 'O',\n",
    "    'p' : 'P',\n",
    "    'r' : 'Γ',\n",
    "    'ъ' : 'Ъ',\n",
    "    'ʌ' : 'Ʌ',\n",
    "    'u' : 'U',\n",
    "    'w' : 'W',\n",
    "    'y' : 'Y',\n",
    "    'ч' : 'Ч',\n",
    "    'ɿ' : 'Ⴈ'\n",
    "}\n",
    "\n",
    "lowercase = {v: k for k, v in uppercase.items()}"
   ]
  },
  {
   "cell_type": "code",
   "execution_count": null,
   "metadata": {},
   "outputs": [],
   "source": [
    "# Measure abbreviations\n",
    "measure_abbreviations = {\n",
    "    # Time\n",
    "    's' : 'ъ',\n",
    "    'm' : 'm',\n",
    "    'h' : 'o',\n",
    "    # Distance\n",
    "    'mm' : 'mm',\n",
    "    'cm' : 'ɿm',\n",
    "    'dm' : 'dm',\n",
    "    # 'm' : 'm', # Duplicated with minutes\n",
    "    'Dm' : 'Dm',\n",
    "    'hm' : 'em',\n",
    "    'km' : 'cm',\n",
    "    # Litres\n",
    "    'ml' : 'll',\n",
    "    'cl' : 'ɿl',\n",
    "    'dl' : 'dl',\n",
    "    'l' : 'l',\n",
    "    'Dl' : 'Dl',\n",
    "    'hl' : 'el',\n",
    "    'kl' : 'cl',\n",
    "}"
   ]
  },
  {
   "cell_type": "markdown",
   "metadata": {},
   "source": [
    "# 0) Cleaning"
   ]
  },
  {
   "cell_type": "markdown",
   "metadata": {},
   "source": [
    "Simple cleaning operations for common errors or inconsistencies."
   ]
  },
  {
   "cell_type": "code",
   "execution_count": null,
   "metadata": {},
   "outputs": [
    {
     "name": "stdout",
     "output_type": "stream",
     "text": [
      "La serenata es una forma musical concebida para orquesta de cuerda\n",
      "de viento\n",
      "mixta\n",
      "conjunto de cámara o percusión.\n",
      "\n",
      "Fue un divertimento que alcanzó enorme popularidad durante el siglo xviii: La serenata se tocaba\n",
      "al anochecer\n",
      "muchas veces al aire libre\n",
      "y hacía las delicias de las veladas en los jardines de los palacios de los aristócratas. Curiosamente el nombre no deriva de sera\n",
      "que en italiano es «tarde»\n",
      "sino de sereno\n",
      "«calmado» o «reposado». El origen de la serenata está en las baladas que los enamorados cantaban frente a las ventanas de la amada al atardecer cuando algo no había salido bien en la relación.\n",
      "\n",
      "En el siglo xviii\n",
      "constaba de hasta diez movimientos. Wolfgang Amadeus Mozart compuso trece serenatas\n",
      "normalmente para celebrar un acto social: bodas\n",
      "fiestas cortesanas\n",
      "etc. Las serenatas de Mozart comienzan con un movimiento de marcha que tiene forma de sonata; dos movimientos lentos alternan con dos minuetos; siguen un rondó y un final muy brillante\n",
      "que a veces también es una marcha. Ludwig van Beethoven compuso serenatas con trío de cuerdas (Op.8) y para flauta\n",
      "violín y viola (Op.25). En el siglo xix se compusieron serenatas para orquestas (Brahms\n",
      "Dvorak\n",
      "entre otros). También se conciben las serenatas como canción o lied (Franz Schubert\n",
      "Richard Strauss\n",
      "Hugo Wolf\n",
      "Massenet...) o para ser tocadas por un instrumento\n",
      "como el piano (Isaac Albéniz\n",
      "Claude Debussy y Ravel).\n"
     ]
    }
   ],
   "source": [
    "# Remove phantom separation occurring in Wikipedia articles when two references are next to each other\n",
    "text = text.replace('​', '')\n",
    "\n",
    "# Remove numbers after a word\n",
    "pattern = r'([a-zA-Z]+)\\d+'\n",
    "output = r'\\1'\n",
    "text = re.sub(pattern, output, text)\n",
    "\n",
    "show_text(text)"
   ]
  },
  {
   "cell_type": "markdown",
   "metadata": {},
   "source": [
    "# 1) Direct replacements"
   ]
  },
  {
   "cell_type": "markdown",
   "metadata": {},
   "source": [
    "Some words can be replaced directly, usually being contractions of short words."
   ]
  },
  {
   "cell_type": "code",
   "execution_count": null,
   "metadata": {},
   "outputs": [
    {
     "name": "stdout",
     "output_type": "stream",
     "text": [
      "La serenata es una forma musical concebida pa orquesta de cuerda\n",
      "de viento\n",
      "mixta\n",
      "conjunto de cámara o percusión.\n",
      "\n",
      "Fue un divertimento que alcanzó enorme popularidad durante el siglo xviii: La serenata se tocaba\n",
      "al anochecer\n",
      "muchas veces al aire libre\n",
      "y hacía las delicias de las veladas en los jardines de los palacios de los aristócratas. Curiosamente el nombre no deriva de sera\n",
      "que en italiano es «tarde»\n",
      "sino de sereno\n",
      "«calmado» o «reposado». El origen de la serenata está en las baladas que los enamorados cantaban frente a las ventanas de la amada al atardecer cuando algo no había salido bien en la relación.\n",
      "\n",
      "En el siglo xviii\n",
      "constaba de hasta diez movimientos. Wolfgang Amadeus Mozart compuso trece serenatas\n",
      "normalmente pa celebrar un acto social: bodas\n",
      "fiestas cortesanas\n",
      "eьɿ. Las serenatas de Mozart comienzan con un movimiento de marcha que tiene forma de sonata; dos movimientos lentos alternan con dos minuetos; siguen un rondó y un final mu brillante\n",
      "que a veces también es una marcha. Ludwig van Beethoven compuso serenatas con trío de cuerdas (Op.8) y pa flauta\n",
      "violín y viola (Op.25). En el siglo xix se compusieron serenatas pa orquestas (Brahms\n",
      "Dvorak\n",
      "entre otros). También se conciben las serenatas como canción o lied (Franz Schubert\n",
      "Richard Strauss\n",
      "Hugo Wolf\n",
      "Massenet...) o pa ser tocadas por un instrumento\n",
      "como el piano (Isaac Albéniz\n",
      "Claude Debussy y Ravel).\n"
     ]
    }
   ],
   "source": [
    "direct_replacements = {\n",
    "    # Standard Spanish : Andalusian Spanish\n",
    "    f'([{stopchars}])para([{stopchars}])' : r'\\1pa\\2',\n",
    "    f'([{stopchars}])Para([{stopchars}])' : r'\\1Pa\\2',\n",
    "    f'([{stopchars}])muy([{stopchars}])' : r'\\1mu\\2',\n",
    "    f'([{stopchars}])Muy([{stopchars}])' : r'\\1Mu\\2',\n",
    "    f'([{stopchars}])todo([{stopchars}])' : r'\\1ʌo\\2',\n",
    "    f'([{stopchars}])Todo([{stopchars}])' : r'\\1Ʌo\\2',\n",
    "    f'([{stopchars}])toda([{stopchars}])' : r'\\1ʌoa\\2',\n",
    "    f'([{stopchars}])Toda([{stopchars}])' : r'\\1Ʌoa\\2',\n",
    "    f'([{stopchars}])todos([{stopchars}])' : r'\\1ʌoь\\2',\n",
    "    f'([{stopchars}])Todos([{stopchars}])' : r'\\1Ʌoь\\2',\n",
    "    f'([{stopchars}])todas([{stopchars}])' : r'\\1ʌoaь\\2',\n",
    "    f'([{stopchars}])Todas([{stopchars}])' : r'\\1Ʌoaь\\2',\n",
    "    f'([{stopchars}])pues([{stopchars}])' : r'\\1poь\\2',\n",
    "    f'([{stopchars}])Pues([{stopchars}])' : r'\\1Poь\\2',\n",
    "    f'([{stopchars}])etc([{stopchars}])' : r'\\1eьɿ\\2',\n",
    "}\n",
    "\n",
    "# Loop through the dictionary\n",
    "for key, value in direct_replacements.items():\n",
    "    text = re.sub(key, value, text)\n",
    "\n",
    "show_text(text)"
   ]
  },
  {
   "cell_type": "markdown",
   "metadata": {},
   "source": [
    "## Replace Roman numerals"
   ]
  },
  {
   "cell_type": "markdown",
   "metadata": {},
   "source": [
    "Roman numerals should be removed at this point."
   ]
  },
  {
   "cell_type": "code",
   "execution_count": null,
   "metadata": {},
   "outputs": [
    {
     "name": "stdout",
     "output_type": "stream",
     "text": [
      "La serenata es una forma musical concebida pa orquesta de cuerda\n",
      "de viento\n",
      "mixta\n",
      "conjunto de cámara o percusión.\n",
      "\n",
      "Fue un divertimento que alcanzó enorme popularidad durante el siglo 18: La serenata se tocaba\n",
      "al anochecer\n",
      "muchas veces al aire libre\n",
      "y hacía las delicias de las veladas en los jardines de los palacios de los aristócratas. Curiosamente el nombre no deriva de sera\n",
      "que en italiano es «tarde»\n",
      "sino de sereno\n",
      "«calmado» o «reposado». El origen de la serenata está en las baladas que los enamorados cantaban frente a las ventanas de la amada al atardecer cuando algo no había salido bien en la relación.\n",
      "\n",
      "En el siglo 18\n",
      "constaba de hasta diez movimientos. Wolfgang Amadeus Mozart compuso trece serenatas\n",
      "normalmente pa celebrar un acto social: bodas\n",
      "fiestas cortesanas\n",
      "eьɿ. Las serenatas de Mozart comienzan con un movimiento de marcha que tiene forma de sonata; dos movimientos lentos alternan con dos minuetos; siguen un rondó y un final mu brillante\n",
      "que a veces también es una marcha. Ludwig van Beethoven compuso serenatas con trío de cuerdas (Op.8) y pa flauta\n",
      "violín y viola (Op.25). En el siglo 19 se compusieron serenatas pa orquestas (Brahms\n",
      "Dvorak\n",
      "entre otros). También se conciben las serenatas como canción o lied (Franz Schubert\n",
      "Richard Strauss\n",
      "Hugo Wolf\n",
      "Massenet...) o pa ser tocadas por un instrumento\n",
      "como el piano (Isaac Albéniz\n",
      "Claude Debussy y Ravel).\n"
     ]
    }
   ],
   "source": [
    "# Find instances of \"siglo \" + roman numerals\n",
    "# Replace by patterns\n",
    "# Longer patterns first\n",
    "roman_patterns = [\n",
    "    (rf'siglos? [ivxlcdmIVXLCDM]+ y ([ivxlcdmIVXLCDM]+)[{stopchars}]', f'siglos? [ivxlcdmIVXLCDM]+ y [ivxlcdmIVXLCDM]+[{stopchars}]'),\n",
    "    (rf'siglos? ([ivxlcdmIVXLCDM]+)[{stopchars}]', rf'siglos? [ivxlcdmIVXLCDM]+[{stopchars}]')\n",
    "]\n",
    "\n",
    "# If there are any, extract the roman numerals and convert them to arabic\n",
    "siglo_relaces = {}\n",
    "for pattern, clean_pattern in roman_patterns:    \n",
    "    siglos = re.findall(clean_pattern, text)\n",
    "    for siglo in siglos:\n",
    "        # Extract the roman numerals\n",
    "        has_pattern = re.match(pattern, siglo) is not None\n",
    "        if has_pattern:\n",
    "            roman_numeral = re.match(pattern, siglo).group(1)\n",
    "            arabic_numeral = roman.fromRoman(roman_numeral.upper())\n",
    "            # Replace the roman numerals with the arabic numerals\n",
    "            siglo_relaces[siglo] = siglo.replace(roman_numeral, str(arabic_numeral))\n",
    "\n",
    "# Loop through the dictionary\n",
    "for key, value in siglo_relaces.items():\n",
    "    text = text.replace(key, value)\n",
    "\n",
    "show_text(text)"
   ]
  },
  {
   "cell_type": "markdown",
   "metadata": {},
   "source": [
    "## Replace measurement abbreviations"
   ]
  },
  {
   "cell_type": "code",
   "execution_count": null,
   "metadata": {},
   "outputs": [
    {
     "name": "stdout",
     "output_type": "stream",
     "text": [
      "La serenata es una forma musical concebida pa orquesta de cuerda\n",
      "de viento\n",
      "mixta\n",
      "conjunto de cámara o percusión.\n",
      "\n",
      "Fue un divertimento que alcanzó enorme popularidad durante el siglo 18: La serenata se tocaba\n",
      "al anochecer\n",
      "muchas veces al aire libre\n",
      "y hacía las delicias de las veladas en los jardines de los palacios de los aristócratas. Curiosamente el nombre no deriva de sera\n",
      "que en italiano es «tarde»\n",
      "sino de sereno\n",
      "«calmado» o «reposado». El origen de la serenata está en las baladas que los enamorados cantaban frente a las ventanas de la amada al atardecer cuando algo no había salido bien en la relación.\n",
      "\n",
      "En el siglo 18\n",
      "constaba de hasta diez movimientos. Wolfgang Amadeus Mozart compuso trece serenatas\n",
      "normalmente pa celebrar un acto social: bodas\n",
      "fiestas cortesanas\n",
      "eьɿ. Las serenatas de Mozart comienzan con un movimiento de marcha que tiene forma de sonata; dos movimientos lentos alternan con dos minuetos; siguen un rondó y un final mu brillante\n",
      "que a veces también es una marcha. Ludwig van Beethoven compuso serenatas con trío de cuerdas (Op.8) y pa flauta\n",
      "violín y viola (Op.25). En el siglo 19 se compusieron serenatas pa orquestas (Brahms\n",
      "Dvorak\n",
      "entre otros). También se conciben las serenatas como canción o lied (Franz Schubert\n",
      "Richard Strauss\n",
      "Hugo Wolf\n",
      "Massenet...) o pa ser tocadas por un instrumento\n",
      "como el piano (Isaac Albéniz\n",
      "Claude Debussy y Ravel).\n"
     ]
    }
   ],
   "source": [
    "# Replace meadurement abbreviations\n",
    "for original_abb, converted_abb in measure_abbreviations.items():\n",
    "    pattern = rf'([{stopchars}]){original_abb}([{stopchars}])'\n",
    "    output = rf'\\1{converted_abb}\\2'\n",
    "    text = re.sub(pattern, output, text)\n",
    "\n",
    "show_text(text)"
   ]
  },
  {
   "cell_type": "markdown",
   "metadata": {},
   "source": [
    "# 2) Contextual conversion"
   ]
  },
  {
   "cell_type": "markdown",
   "metadata": {},
   "source": [
    "Some letters depend on the context to be transformed. This implies that order matters.\n",
    "\n",
    "* x\n",
    "    * If it is at the beginning of a word, it is transformed into \"ъ\".\n",
    "    * If it is at the end of a word, it is transformed into \"ь\".\n",
    "    * If it is enclosed between two vowels, it is transformed into \"ьъ\".\n",
    "    * Otherwise, it is transformed into \"ь\".\n",
    "\n",
    "* g\n",
    "    * If followed by \"e\" or \"i\", it is transformed into \"ь\".\n",
    "    * Otherwise, it is transformed into \"ƨ\".\n",
    "\n",
    "* c\n",
    "    * If followed by \"e\" or \"i\", it is transformed into \"ɿ\".\n",
    "    * Otherwise, it is transformed into \"c\".\n"
   ]
  },
  {
   "cell_type": "code",
   "execution_count": null,
   "metadata": {},
   "outputs": [
    {
     "name": "stdout",
     "output_type": "stream",
     "text": [
      "La serenata es una forma musical conɿebida pa orquesta de cuerda\n",
      "de viento\n",
      "miьta\n",
      "conjunto de cámara o percusión.\n",
      "\n",
      "Fue un divertimento que alcanzó enorme popularidad durante el siglo 18: La serenata se tocaba\n",
      "al anocheɿer\n",
      "muchas veɿes al aire libre\n",
      "i haɿía las deliɿias de las veladas en los jardines de los palaɿios de los aristócratas. Curiosamente el nombre no deriva de sera\n",
      "que en italiano es «tarde»\n",
      "sino de sereno\n",
      "«calmado» o «reposado». El oriьen de la serenata está en las baladas que los enamorados cantaban frente a las ventanas de la amada al atardeɿer cuando alƨo no había salido bien en la relaɿión.\n",
      "\n",
      "En el siglo 18\n",
      "constaba de hasta diez movimientos. Wolfƨang Amadeus Mozart compuso treɿe serenatas\n",
      "normalmente pa ɿelebrar un acto soɿial: bodas\n",
      "fiestas cortesanas\n",
      "eьɿ. Las serenatas de Mozart comienzan con un movimiento de marcha que tiene forma de sonata; dos movimientos lentos alternan con dos minuetos; siƨen un rondó i un final mu brillante\n",
      "que a veɿes también es una marcha. Ludwig van Beethoven compuso serenatas con trío de cuerdas (Op.8) i pa flauta\n",
      "violín i viola (Op.25). En el siglo 19 se compusieron serenatas pa orquestas (Brahms\n",
      "Dvorak\n",
      "entre otros). También se conɿiben las serenatas como canɿión o lied (Franz Schubert\n",
      "Richard Strauss\n",
      "Huƨo Wolf\n",
      "Massenet...) o pa ser tocadas por un instrumento\n",
      "como el piano (Isaac Albéniz\n",
      "Claude Debussy i Ravel).\n"
     ]
    }
   ],
   "source": [
    "# Contextual conversion\n",
    "contextual_conversions = {\n",
    "    ### g\n",
    "    # Lowercase\n",
    "    'g([ei])' : r'ь\\1',\n",
    "    'gu([ei])' : r'ƨ\\1',\n",
    "    'gü' : 'w',\n",
    "    'g([ao])' : r'ƨ\\1',\n",
    "    'gu([ao])' : r'w\\1',\n",
    "    # Uppercase\n",
    "    'G([eiEI])' : r'Ь\\1',\n",
    "    'Gu([eiEI])' : r'Ƨ\\1',\n",
    "    'G[üÜ]' : 'W',\n",
    "    'G([aoAO])' : r'Ƨ\\1',\n",
    "    'Gu([aoAO])' : r'W\\1',\n",
    "\n",
    "    ### c\n",
    "    # Lowercase\n",
    "    'c([eiéíEIÉÍ])' : r'ɿ\\1',\n",
    "    # Uppercase\n",
    "    'C([eiéíEIÉÍ])' : r'Ⴈ\\1',\n",
    "\n",
    "    ### x\n",
    "    # Lowercase\n",
    "    f'([{vowels}])x([{vowels}])' : r'\\1ьъ\\2',\n",
    "    f'x([{consonants}])' : r'ь\\1',\n",
    "    # f'x([{stopchars}])' : r'ь\\1', # Special case to be handled in word-end transformations\n",
    "    f'([{vowels}])X([{vowels}])' : r'\\1ЬЪ\\2',\n",
    "    f'X([{consonants}])' : r'Ь\\1',\n",
    "    # f'X([{stopchars}])' : r'Ь\\1', # Special case to be handled in word-end transformations\n",
    "\n",
    "    ### y\n",
    "    # Lowercase\n",
    "    f'([{vowels}{stopchars}])y([{consonants}{stopchars}])' : r'\\1i\\2',\n",
    "    # Uppercase\n",
    "    f'([{vowels}{stopchars}])Y([{consonants}{stopchars}])' : r'\\1I\\2',\n",
    "}\n",
    "\n",
    "# Loop through the dictionary\n",
    "for key, value in contextual_conversions.items():\n",
    "    text = re.sub(key, value, text)\n",
    "\n",
    "show_text(text)"
   ]
  },
  {
   "cell_type": "markdown",
   "metadata": {},
   "source": [
    "# 3) Direct conversion"
   ]
  },
  {
   "cell_type": "markdown",
   "metadata": {},
   "source": [
    "The following letters can always be converted to the same letter in Andalusian, **regardless of the context**:\n",
    "\n",
    "<center>\n",
    "\n",
    "| Letter | Translit. |\n",
    "|--------|-----------|\n",
    "| b      | б         |\n",
    "| v      | б         |\n",
    "| k      | c         |\n",
    "| qu     | c         |\n",
    "| t      | ʌ         |\n",
    "| ll     | y         |\n",
    "| s      | ъ         |\n",
    "| j      | ь         |\n",
    "| z      | ɿ         |\n",
    "| ch     | ч         |\n",
    "| h       |          |\n",
    "</center>"
   ]
  },
  {
   "cell_type": "code",
   "execution_count": null,
   "metadata": {},
   "outputs": [
    {
     "name": "stdout",
     "output_type": "stream",
     "text": [
      "La ъerenaʌa eъ una forma muъical conɿeбida pa orceъʌa de cuerda\n",
      "de бienʌo\n",
      "miьʌa\n",
      "conьunʌo de cámara o percuъión.\n",
      "\n",
      "Fue un diбerʌimenʌo ce alcanɿó enorme popularidad duranʌe el ъiƨlo 18: La ъerenaʌa ъe ʌocaбa\n",
      "al anoчeɿer\n",
      "muчaъ бeɿeъ al aire liбre\n",
      "i aɿía laъ deliɿiaъ de laъ бeladaъ en loъ ьardineъ de loъ palaɿioъ de loъ ariъʌócraʌaъ. Curioъamenʌe el nomбre no deriбa de ъera\n",
      "ce en iʌaliano eъ «ʌarde»\n",
      "ъino de ъereno\n",
      "«calmado» o «repoъado». El oriьen de la ъerenaʌa eъʌá en laъ бaladaъ ce loъ enamoradoъ canʌaбan frenʌe a laъ бenʌanaъ de la amada al aʌardeɿer cuando alƨo no aбía ъalido бien en la relaɿión.\n",
      "\n",
      "En el ъiƨlo 18\n",
      "conъʌaбa de aъʌa dieɿ moбimienʌoъ. Wolfƨanƨ Amadeuъ Moɿarʌ compuъo ʌreɿe ъerenaʌaъ\n",
      "normalmenʌe pa ɿeleбrar un acʌo ъoɿial: бodaъ\n",
      "fieъʌaъ corʌeъanaъ\n",
      "eьɿ. Laъ ъerenaʌaъ de Moɿarʌ comienɿan con un moбimienʌo de marчa ce ʌiene forma de ъonaʌa; doъ moбimienʌoъ lenʌoъ alʌernan con doъ minueʌoъ; ъiƨen un rondó i un final mu бriyanʌe\n",
      "ce a бeɿeъ ʌamбién eъ una marчa. Ludwiƨ бan Бeeʌoбen compuъo ъerenaʌaъ con ʌrío de cuerdaъ (Op.8) i pa flauʌa\n",
      "бiolín i бiola (Op.25). En el ъiƨlo 19 ъe compuъieron ъerenaʌaъ pa orceъʌaъ (Бramъ\n",
      "Dбorac\n",
      "enʌre oʌroъ). Ʌamбién ъe conɿiбen laъ ъerenaʌaъ como canɿión o lied (Franɿ Ъчuбerʌ\n",
      "Γiчard Ъʌrauъъ\n",
      "Huƨo Wolf\n",
      "Maъъeneʌ...) o pa ъer ʌocadaъ por un inъʌrumenʌo\n",
      "como el piano (Iъaac Alбéniɿ\n",
      "Claude Deбuъъy i Γaбel).\n"
     ]
    }
   ],
   "source": [
    "# Direct conversion\n",
    "direct_conversions = {\n",
    "'b' : 'б',\n",
    "'B' : 'Б',\n",
    "'v' : 'б',\n",
    "'V' : 'Б',\n",
    "'g' : 'ƨ',\n",
    "'G' : 'Ƨ',\n",
    "'k' : 'c',\n",
    "'K' : 'C',\n",
    "'qu' : 'c',\n",
    "'Qu' : 'C',\n",
    "'t' : 'ʌ',\n",
    "'T' : 'Ʌ',\n",
    "'ll' : 'y',\n",
    "'Ll' : 'Y',\n",
    "'s' : 'ъ',\n",
    "'S' : 'Ъ',\n",
    "'j' : 'ь',\n",
    "'J' : 'Ь',\n",
    "'z' : 'ɿ',\n",
    "'Z' : 'Ⴈ',\n",
    "'ch' : 'ч',\n",
    "'Ch' : 'Ч',\n",
    "'h' : '',\n",
    "'R' : 'Γ'\n",
    "}\n",
    "# Create a regular expression that matches any key in the dictionary\n",
    "regex = re.compile(\"(%s)\" % \"|\".join(map(re.escape, direct_conversions.keys())))\n",
    "\n",
    "# Function to look up the replacement\n",
    "def replace(match):\n",
    "    return direct_conversions[match.group(0)]\n",
    "\n",
    "# Use the function in the sub method\n",
    "text = regex.sub(replace, text)\n",
    "show_text(text)"
   ]
  },
  {
   "cell_type": "markdown",
   "metadata": {},
   "source": [
    "When a word starts with an uppercase 'H', the next letter must be uppercased."
   ]
  },
  {
   "cell_type": "code",
   "execution_count": null,
   "metadata": {},
   "outputs": [
    {
     "name": "stdout",
     "output_type": "stream",
     "text": [
      "La ъerenaʌa eъ una forma muъical conɿeбida pa orceъʌa de cuerda\n",
      "de бienʌo\n",
      "miьʌa\n",
      "conьunʌo de cámara o percuъión.\n",
      "\n",
      "Fue un diбerʌimenʌo ce alcanɿó enorme popularidad duranʌe el ъiƨlo 18: La ъerenaʌa ъe ʌocaбa\n",
      "al anoчeɿer\n",
      "muчaъ бeɿeъ al aire liбre\n",
      "i aɿía laъ deliɿiaъ de laъ бeladaъ en loъ ьardineъ de loъ palaɿioъ de loъ ariъʌócraʌaъ. Curioъamenʌe el nomбre no deriбa de ъera\n",
      "ce en iʌaliano eъ «ʌarde»\n",
      "ъino de ъereno\n",
      "«calmado» o «repoъado». El oriьen de la ъerenaʌa eъʌá en laъ бaladaъ ce loъ enamoradoъ canʌaбan frenʌe a laъ бenʌanaъ de la amada al aʌardeɿer cuando alƨo no aбía ъalido бien en la relaɿión.\n",
      "\n",
      "En el ъiƨlo 18\n",
      "conъʌaбa de aъʌa dieɿ moбimienʌoъ. Wolfƨanƨ Amadeuъ Moɿarʌ compuъo ʌreɿe ъerenaʌaъ\n",
      "normalmenʌe pa ɿeleбrar un acʌo ъoɿial: бodaъ\n",
      "fieъʌaъ corʌeъanaъ\n",
      "eьɿ. Laъ ъerenaʌaъ de Moɿarʌ comienɿan con un moбimienʌo de marчa ce ʌiene forma de ъonaʌa; doъ moбimienʌoъ lenʌoъ alʌernan con doъ minueʌoъ; ъiƨen un rondó i un final mu бriyanʌe\n",
      "ce a бeɿeъ ʌamбién eъ una marчa. Ludwiƨ бan Бeeʌoбen compuъo ъerenaʌaъ con ʌrío de cuerdaъ (Op.8) i pa flauʌa\n",
      "бiolín i бiola (Op.25). En el ъiƨlo 19 ъe compuъieron ъerenaʌaъ pa orceъʌaъ (Бramъ\n",
      "Dбorac\n",
      "enʌre oʌroъ). Ʌamбién ъe conɿiбen laъ ъerenaʌaъ como canɿión o lied (Franɿ Ъчuбerʌ\n",
      "Γiчard Ъʌrauъъ\n",
      "Uƨo Wolf\n",
      "Maъъeneʌ...) o pa ъer ʌocadaъ por un inъʌrumenʌo\n",
      "como el piano (Iъaac Alбéniɿ\n",
      "Claude Deбuъъy i Γaбel).\n"
     ]
    }
   ],
   "source": [
    "# Find all H instances\n",
    "capital_h = re.findall('H.', text)\n",
    "\n",
    "# Loop through the list creating replaces where the H is replaced by the second letter capitalized\n",
    "replaces = {combination : combination.upper()[1] for combination in capital_h}\n",
    "for key, value in replaces.items():\n",
    "    text = text.replace(key, value)\n",
    "    \n",
    "show_text(text)"
   ]
  },
  {
   "cell_type": "markdown",
   "metadata": {},
   "source": [
    "# 4) Word-end transformations"
   ]
  },
  {
   "cell_type": "markdown",
   "metadata": {},
   "source": [
    "Most consonants undergo changes in Andalusian Spanish when they are located at the word end."
   ]
  },
  {
   "cell_type": "code",
   "execution_count": null,
   "metadata": {},
   "outputs": [],
   "source": [
    "def detach_stopchars(word: str):\n",
    "    \"\"\"Separates the stopchars from the word and returns both separately\"\"\"\n",
    "\n",
    "    # If there are no stopchars, return the word as is and None\n",
    "    if not re.search(f'[{stopchars}]$', word):\n",
    "        return word, None\n",
    "    \n",
    "    # Otherwise, detach stopchars from the word if they are present\n",
    "    else:\n",
    "        word_stopchars = re.findall(f'([{stopchars}]+)$', word)\n",
    "        assert len(word_stopchars) == 1, f'Unexpected number of stopchars found: {word_stopchars} for word {word}'\n",
    "        word_stopchars = word_stopchars[-1]\n",
    "        word = re.sub(f'([{stopchars}]+)$', '', word)\n",
    "\n",
    "        return word, word_stopchars"
   ]
  },
  {
   "cell_type": "code",
   "execution_count": null,
   "metadata": {},
   "outputs": [],
   "source": [
    "def remove_final_consontants(word: str) -> str:\n",
    "    \"\"\"Removes final consonants from a word if they are present.\"\"\"\n",
    "\n",
    "    # Detach stopchars from the word if they are present\n",
    "    # word, word_stopchars = detach_stopchars(word)\n",
    "\n",
    "    # Remove consonants at the end of the word if they are present\n",
    "    end_consonants = re.findall(f'([{consonants}]+)$', word)\n",
    "    if end_consonants:\n",
    "        # Remove the consonants\n",
    "        word = re.sub(f'([{consonants}]+)$', '', word)\n",
    "    \n",
    "    # Reattach the stopchars\n",
    "    # if word_stopchars:\n",
    "        # word += word_stopchars\n",
    "    \n",
    "    return word"
   ]
  },
  {
   "cell_type": "code",
   "execution_count": null,
   "metadata": {},
   "outputs": [],
   "source": [
    "def add_accent_mark(word: str) -> str:\n",
    "    \"\"\"\n",
    "    Adds an accent mark to the last vowel of a word if necessary.\n",
    "    \"\"\"\n",
    "\n",
    "    # Detach stopchars from the word if they are present\n",
    "    # word, word_stopchars = detach_stopchars(word)\n",
    "\n",
    "    # Remove consonants at the end of the word if they are present\n",
    "    end_consonants = re.findall(f'([{consonants}]+)$', word)\n",
    "    if end_consonants:\n",
    "        # Remove the consonants\n",
    "        word = re.sub(f'([{consonants}]+)$', '', word)    \n",
    "\n",
    "        # Add an accent mark to the last vowel\n",
    "        try:\n",
    "            last_letter = word[-1]    \n",
    "        # In some cases, i.e., abbreviatures (cm), the whole word can be deleted.\n",
    "        # If it happens, return the raw word\n",
    "        except IndexError: \n",
    "            return word\n",
    "\n",
    "        assert last_letter in vowels, f'Unexpected last letter of word: {word[-1]} for word {word}'\n",
    "        word_root = word[:-1]\n",
    "        marked_letter = to_accented_vowel[last_letter]\n",
    "        word = word_root + marked_letter\n",
    "\n",
    "    # Reattach stopchars to the word if they were present\n",
    "    # if word_stopchars:\n",
    "        # word += word_stopchars\n",
    "\n",
    "    return word"
   ]
  },
  {
   "cell_type": "code",
   "execution_count": null,
   "metadata": {},
   "outputs": [],
   "source": [
    "def remove_accent_mark(word: str) -> str:\n",
    "    \"\"\"\n",
    "    Removes an accent mark from the last valid vowel of a word if necessary.\n",
    "\n",
    "    drop_consonants: str\n",
    "        A string containing the consonants that should be dropped from the word if they are the last letter.\n",
    "    \"\"\"\n",
    "\n",
    "    # Find all accented vowels\n",
    "    aux_accented = re.findall(f\"[{accented_vowels}]\", word)\n",
    "\n",
    "    # If there are no accented vowels, return the word as is\n",
    "    if not aux_accented:\n",
    "        return word\n",
    "    \n",
    "    # If there are accented vowels, replace them with their non-accented counterparts\n",
    "    for accented_vowel in set(aux_accented):\n",
    "        word = word.replace(accented_vowel, to_non_accented_vowel[accented_vowel])\n",
    "\n",
    "    return word  "
   ]
  },
  {
   "cell_type": "code",
   "execution_count": null,
   "metadata": {},
   "outputs": [],
   "source": [
    "# Handle -do endings\n",
    "def handle_d_endings(word):\n",
    "    \"\"\"\n",
    "    Handles the -d- ending in words.\n",
    "    \"\"\"\n",
    "\n",
    "    # If the word is stressed in the third-to-last syllable,\n",
    "    # no changes are necessary\n",
    "    aux_mask = (\n",
    "        re.search(rf'[{non_accented_vowels}]d[oa]ь?$', word) is not None and\n",
    "        re.search(f'[{accented_vowels}]', word) is not None\n",
    "    )\n",
    "    if aux_mask: \n",
    "        return word\n",
    "    \n",
    "    # In other cases, drop intervocalic -d- in the last syllable and manage accents\n",
    "    pattern = rf'([aeiuáéíúAEIUÁÉÍÚ])d([oóa])(ь)?$'\n",
    "    output = rf'\\1\\2\\3'\n",
    "    word = re.sub(pattern, output, word)\n",
    "\n",
    "    # Handle accents\n",
    "    aux_accent_dict  = {\n",
    "        'ao(ь)?$' : r'áo\\1',\n",
    "        'aa(ь)?$' : r'á\\1',\n",
    "        'i([ao])(ь)?$' : r'í\\1\\2',\n",
    "        'u([ao])(ь)?$' : r'ú\\1\\2'\n",
    "    }\n",
    "    for pattern, output in aux_accent_dict.items():\n",
    "        if re.search(pattern, word) is not None:\n",
    "            word = re.sub(pattern, output, word)\n",
    "            break\n",
    "\n",
    "    return word \n",
    "    "
   ]
  },
  {
   "cell_type": "code",
   "execution_count": null,
   "metadata": {},
   "outputs": [],
   "source": [
    "# Determine sets\n",
    "second_to_last_accented_consonants = 'ʌdpбcƨfrl'\n",
    "last_accented_consonants = 'ɿm'\n",
    "word_end_transformations = {\n",
    "    'ъ' : {'pattern' : rf'ъ([{stopchars}]+)?$', 'output' : r'ь\\1'},\n",
    "    'ɿ' : {'pattern' : rf'ɿ([{stopchars}]+)?$', 'output' : r'ь\\1'},\n",
    "    'm' : {'pattern' : rf'm([{stopchars}]+)?$', 'output' : r'n\\1'},\n",
    "}\n",
    "\n",
    "# Set words that remain unchanged\n",
    "inmutable_exceptions = ['el', 'del', 'al', 'por', 'eьɿ']\n",
    "inmutable_exceptions.extend([word.capitalize() for word in inmutable_exceptions])\n",
    "\n",
    "def perform_word_end_transformations(word):\n",
    "    \"\"\"\n",
    "    Wrapper function to perform changes at the end of words,\n",
    "    managing also accent marks.\n",
    "    \"\"\"\n",
    "\n",
    "    # Detect last letter to perform the appropriate transformation\n",
    "    word, stopchars = detach_stopchars(word)\n",
    "    last_letter = word[-1]\n",
    "\n",
    "    ### Handle special cases ###\n",
    "    \n",
    "    # Skip inmutable words or words with just one character\n",
    "    if word in inmutable_exceptions or len(word) == 1:\n",
    "        if stopchars: # Attach stopchars if they are present\n",
    "            word += stopchars            \n",
    "        return word\n",
    "    \n",
    "    # Units of measure should remain unchanged\n",
    "    if word in measure_abbreviations.values():\n",
    "        if stopchars: # Attach stopchars if they are present\n",
    "            word += stopchars\n",
    "        return word\n",
    "\n",
    "    # Check if the word has an accent mark\n",
    "    has_accent = re.search(f'[{accented_vowels}]', word) is not None\n",
    "\n",
    "    ### Handle last consonant cases ###\n",
    "\n",
    "    # Handle special cases first\n",
    "    # -x\n",
    "    if last_letter in 'xX':\n",
    "        if has_accent:\n",
    "            word = remove_accent_mark(word)\n",
    "        else:\n",
    "            word = add_accent_mark(word)\n",
    "            \n",
    "        word = re.sub('x$', 'ь', word)\n",
    "        word = re.sub('X$', 'Ь', word)\n",
    "\n",
    "    # -pъ\n",
    "    elif word[-2:].lower() == 'pъ':\n",
    "        if has_accent:\n",
    "            word = remove_accent_mark(word)\n",
    "        else:\n",
    "            word = add_accent_mark(word)\n",
    "            \n",
    "        word = re.sub('pъ$', 'ь', word)\n",
    "        word = re.sub('PЪ$', 'Ь', word)\n",
    "\n",
    "    # Words with second to last accented consonants\n",
    "    elif last_letter in second_to_last_accented_consonants:\n",
    "        if has_accent:\n",
    "            word = remove_accent_mark(word)\n",
    "        else:\n",
    "            word = add_accent_mark(word)\n",
    "            \n",
    "        word = remove_final_consontants(word)\n",
    "    \n",
    "    # Words with last accented consonants\n",
    "    elif last_letter in last_accented_consonants:\n",
    "        if has_accent:\n",
    "            word = remove_accent_mark(word)\n",
    "            pattern = word_end_transformations[last_letter]['pattern']\n",
    "            output = word_end_transformations[last_letter]['output']\n",
    "            word.replace(pattern, output)\n",
    "        else:\n",
    "            word = add_accent_mark(word)\n",
    "            transformed_ending = word_end_transformations[last_letter]['output'].replace(r'\\1', '')\n",
    "            word += transformed_ending\n",
    "\n",
    "    # Special case for 'ъ': the accent rules do not change\n",
    "    elif last_letter == 'ъ':\n",
    "        pattern = word_end_transformations[last_letter]['pattern']\n",
    "        output = word_end_transformations[last_letter]['output']\n",
    "        word = re.sub(pattern, output, word)\n",
    "\n",
    "    # Handle -d- endings\n",
    "    if re.search(f'[{vowels}]d[{vowels}{accented_vowels}]ь?', word) is not None:\n",
    "        word = handle_d_endings(word)\n",
    "\n",
    "    # Attach stopchars from the word if they are present\n",
    "    if stopchars:\n",
    "        word += stopchars\n",
    "    \n",
    "    return word"
   ]
  },
  {
   "cell_type": "code",
   "execution_count": null,
   "metadata": {},
   "outputs": [
    {
     "name": "stdout",
     "output_type": "stream",
     "text": [
      "La ъerenaʌa eь una forma muъicá conɿeбía pa orceъʌa de cuerda\n",
      "de бienʌo\n",
      "miьʌa\n",
      "conьunʌo de cámara o percuъión.\n",
      "\n",
      "Fue un diбerʌimenʌo ce alcanɿó enorme popularidá duranʌe el ъiƨlo 18: La ъerenaʌa ъe ʌocaбa\n",
      "al anoчeɿé\n",
      "muчaь бeɿeь al aire liбre\n",
      "i aɿía laь deliɿiaь de laь бeláь en loь ьardineь de loь palaɿioь de loь ariъʌócraʌaь. Curioъamenʌe el nomбre no deriбa de ъera\n",
      "ce en iʌaliano eь «ʌarde»\n",
      "ъino de ъereno\n",
      "«calmáo» o «repoъáo». El oriьen de la ъerenaʌa eъʌá en laь бaláь ce loь enamoráoь canʌaбan frenʌe a laь бenʌanaь de la amá al aʌardeɿé cuando alƨo no aбía ъalío бien en la relaɿión.\n",
      "\n",
      "En el ъiƨlo 18\n",
      "conъʌaбa de aъʌa diéь moбimienʌoь. Wolfƨá Amadeuь Moɿá compuъo ʌreɿe ъerenaʌaь\n",
      "normalmenʌe pa ɿeleбrá un acʌo ъoɿiá: бodaь\n",
      "fieъʌaь corʌeъanaь\n",
      "eьɿ. Laь ъerenaʌaь de Moɿá comienɿan con un moбimienʌo de marчa ce ʌiene forma de ъonaʌa; doь moбimienʌoь lenʌoь alʌernan con doь minueʌoь; ъiƨen un rondó i un finá mu бriyanʌe\n",
      "ce a бeɿeь ʌamбién eь una marчa. Ludwí бan Бeeʌoбen compuъo ъerenaʌaь con ʌrío de cuerdaь (Op.8) i pa flauʌa\n",
      "бiolín i бiola (Op.25). En el ъiƨlo 19 ъe compuъieron ъerenaʌaь pa orceъʌaь (Бramь\n",
      "Dбorá\n",
      "enʌre oʌroь). Ʌamбién ъe conɿiбen laь ъerenaʌaь como canɿión o lié (Fráь Ъчuбé\n",
      "Γiчá Ъʌrauъь\n",
      "Uƨo Wó\n",
      "Maъъené...) o pa ъé ʌocáь por un inъʌrumenʌo\n",
      "como el piano (Iъaá Alбeniɿ\n",
      "Claude Deбuъъy i Γaбé).\n"
     ]
    }
   ],
   "source": [
    "# Split the text into words, apply the transformations and join them back.\n",
    "lines = text.strip().split('\\n')\n",
    "processed_text = ''\n",
    "for line in lines:\n",
    "    # Split, transform and join the words\n",
    "    words = line.split(' ')\n",
    "    words = [perform_word_end_transformations(word) for word in words if word != '']    \n",
    "    words = ' '.join(words)\n",
    "\n",
    "    # Add it back to the text\n",
    "    processed_text += words + '\\n'\n",
    "\n",
    "text = processed_text \n",
    "show_text(text)"
   ]
  },
  {
   "cell_type": "markdown",
   "metadata": {},
   "source": [
    "# 5) Word initial transformations"
   ]
  },
  {
   "cell_type": "markdown",
   "metadata": {},
   "source": [
    "In some rare cases, initial transformations are needed."
   ]
  },
  {
   "cell_type": "code",
   "execution_count": null,
   "metadata": {},
   "outputs": [
    {
     "name": "stdout",
     "output_type": "stream",
     "text": [
      "La ъerenaʌa eь una forma muъicá conɿeбía pa orceъʌa de cuerda\n",
      "de бienʌo\n",
      "miьʌa\n",
      "conьunʌo de cámara o percuъión.\n",
      "\n",
      "Fue un diбerʌimenʌo ce alcanɿó enorme popularidá duranʌe el ъiƨlo 18: La ъerenaʌa ъe ʌocaбa\n",
      "al anoчeɿé\n",
      "muчaь бeɿeь al aire liбre\n",
      "i aɿía laь deliɿiaь de laь бeláь en loь ьardineь de loь palaɿioь de loь ariъʌócraʌaь. Curioъamenʌe el nomбre no deriбa de ъera\n",
      "ce en iʌaliano eь «ʌarde»\n",
      "ъino de ъereno\n",
      "«calmáo» o «repoъáo». El oriьen de la ъerenaʌa eъʌá en laь бaláь ce loь enamoráoь canʌaбan frenʌe a laь бenʌanaь de la amá al aʌardeɿé cuando alƨo no aбía ъalío бien en la relaɿión.\n",
      "\n",
      "En el ъiƨlo 18\n",
      "conъʌaбa de aъʌa diéь moбimienʌoь. Wolfƨá Amadeuь Moɿá compuъo ʌreɿe ъerenaʌaь\n",
      "normalmenʌe pa ɿeleбrá un acʌo ъoɿiá: бodaь\n",
      "fieъʌaь corʌeъanaь\n",
      "eьɿ. Laь ъerenaʌaь de Moɿá comienɿan con un moбimienʌo de marчa ce ʌiene forma de ъonaʌa; doь moбimienʌoь lenʌoь alʌernan con doь minueʌoь; ъiƨen un rondó i un finá mu бriyanʌe\n",
      "ce a бeɿeь ʌamбién eь una marчa. Ludwí бan Бeeʌoбen compuъo ъerenaʌaь con ʌrío de cuerdaь (Op.8) i pa flauʌa\n",
      "бiolín i бiola (Op.25). En el ъiƨlo 19 ъe compuъieron ъerenaʌaь pa orceъʌaь (Бramь\n",
      "Dбorá\n",
      "enʌre oʌroь). Ʌamбién ъe conɿiбen laь ъerenaʌaь como canɿión o lié (Fráь Ъчuбé\n",
      "Γiчá Ъʌrauъь\n",
      "Uƨo Wó\n",
      "Maъъené...) o pa ъé ʌocáь por un inъʌrumenʌo\n",
      "como el piano (Iъaá Alбeniɿ\n",
      "Claude Deбuъъy i Γaбé).\n"
     ]
    }
   ],
   "source": [
    "word_initial_transformations = {\n",
    "    f'([^{letters}])pъ([{letters}])' : r'\\1ъ\\2',\n",
    "}\n",
    "\n",
    "# Loop through the dictionary\n",
    "for key, value in word_initial_transformations.items():\n",
    "    text = re.sub(key, value, text)\n",
    "\n",
    "show_text(text)"
   ]
  },
  {
   "cell_type": "markdown",
   "metadata": {},
   "source": [
    "# 6) Internal word transformations"
   ]
  },
  {
   "cell_type": "markdown",
   "metadata": {},
   "source": [
    "\n",
    "The 'r' phoneme is unstable before 'l' and 'n' and is assimilated to them."
   ]
  },
  {
   "cell_type": "code",
   "execution_count": null,
   "metadata": {},
   "outputs": [
    {
     "name": "stdout",
     "output_type": "stream",
     "text": [
      "La ъerenaʌa eь una forma muъicá conɿeбía pa orceъʌa de cuerda\n",
      "de бienʌo\n",
      "miьʌa\n",
      "conьunʌo de cámara o percuъión.\n",
      "\n",
      "Fue un diбerʌimenʌo ce alcanɿó enorme popularidá duranʌe el ъiƨlo 18: La ъerenaʌa ъe ʌocaбa\n",
      "al anoчeɿé\n",
      "muчaь бeɿeь al aire liбre\n",
      "i aɿía laь deliɿiaь de laь бeláь en loь ьardineь de loь palaɿioь de loь ariъʌócraʌaь. Curioъamenʌe el nomбre no deriбa de ъera\n",
      "ce en iʌaliano eь «ʌarde»\n",
      "ъino de ъereno\n",
      "«calmáo» o «repoъáo». El oriьen de la ъerenaʌa eъʌá en laь бaláь ce loь enamoráoь canʌaбan frenʌe a laь бenʌanaь de la amá al aʌardeɿé cuando alƨo no aбía ъalío бien en la relaɿión.\n",
      "\n",
      "En el ъiƨlo 18\n",
      "conъʌaбa de aъʌa diéь moбimienʌoь. Wolfƨá Amadeuь Moɿá compuъo ʌreɿe ъerenaʌaь\n",
      "normalmenʌe pa ɿeleбrá un acʌo ъoɿiá: бodaь\n",
      "fieъʌaь corʌeъanaь\n",
      "eьɿ. Laь ъerenaʌaь de Moɿá comienɿan con un moбimienʌo de marчa ce ʌiene forma de ъonaʌa; doь moбimienʌoь lenʌoь alʌennan con doь minueʌoь; ъiƨen un rondó i un finá mu бriyanʌe\n",
      "ce a бeɿeь ʌamбién eь una marчa. Ludwí бan Бeeʌoбen compuъo ъerenaʌaь con ʌrío de cuerdaь (Op.8) i pa flauʌa\n",
      "бiolín i бiola (Op.25). En el ъiƨlo 19 ъe compuъieron ъerenaʌaь pa orceъʌaь (Бramь\n",
      "Dбorá\n",
      "enʌre oʌroь). Ʌamбién ъe conɿiбen laь ъerenaʌaь como canɿión o lié (Fráь Ъчuбé\n",
      "Γiчá Ъʌrauъь\n",
      "Uƨo Wó\n",
      "Maъъené...) o pa ъé ʌocáь por un inъʌrumenʌo\n",
      "como el piano (Iъaá Alбeniɿ\n",
      "Claude Deбuъъy i Γaбé).\n"
     ]
    }
   ],
   "source": [
    "# 'r'-substitutions\n",
    "r_substituion = {'pattern' : r'r([ln])', 'output' : r'\\1\\1'}\n",
    "text = re.sub(r_substituion['pattern'], r_substituion['output'], text)\n",
    "show_text(text)"
   ]
  },
  {
   "cell_type": "markdown",
   "metadata": {},
   "source": [
    "Three letter consonant clusters are simplified."
   ]
  },
  {
   "cell_type": "code",
   "execution_count": null,
   "metadata": {},
   "outputs": [
    {
     "name": "stdout",
     "output_type": "stream",
     "text": [
      "La ъerenaʌa eь una forma muъicá conɿeбía pa orceъʌa de cuerda\n",
      "de бienʌo\n",
      "miьʌa\n",
      "conьunʌo de cámara o percuъión.\n",
      "\n",
      "Fue un diбerʌimenʌo ce alcanɿó enorme popularidá duranʌe el ъiƨlo 18: La ъerenaʌa ъe ʌocaбa\n",
      "al anoчeɿé\n",
      "muчaь бeɿeь al aire liбre\n",
      "i aɿía laь deliɿiaь de laь бeláь en loь ьardineь de loь palaɿioь de loь ariъʌócraʌaь. Curioъamenʌe el nomбre no deriбa de ъera\n",
      "ce en iʌaliano eь «ʌarde»\n",
      "ъino de ъereno\n",
      "«calmáo» o «repoъáo». El oriьen de la ъerenaʌa eъʌá en laь бaláь ce loь enamoráoь canʌaбan frenʌe a laь бenʌanaь de la amá al aʌardeɿé cuando alƨo no aбía ъalío бien en la relaɿión.\n",
      "\n",
      "En el ъiƨlo 18\n",
      "coьʌaбa de aъʌa diéь moбimienʌoь. Wolfƨá Amadeuь Moɿá compuъo ʌreɿe ъerenaʌaь\n",
      "normalmenʌe pa ɿeleбrá un acʌo ъoɿiá: бodaь\n",
      "fieъʌaь corʌeъanaь\n",
      "eьɿ. Laь ъerenaʌaь de Moɿá comienɿan con un moбimienʌo de marчa ce ʌiene forma de ъonaʌa; doь moбimienʌoь lenʌoь alʌennan con doь minueʌoь; ъiƨen un rondó i un finá mu бriyanʌe\n",
      "ce a бeɿeь ʌamбién eь una marчa. Ludwí бan Бeeʌoбen compuъo ъerenaʌaь con ʌrío de cuerdaь (Op.8) i pa flauʌa\n",
      "бiolín i бiola (Op.25). En el ъiƨlo 19 ъe compuъieron ъerenaʌaь pa orceъʌaь (Бramь\n",
      "Dбorá\n",
      "enʌre oʌroь). Ʌamбién ъe conɿiбen laь ъerenaʌaь como canɿión o lié (Fráь Ъчuбé\n",
      "Γiчá Ъʌrauъь\n",
      "Uƨo Wó\n",
      "Maъъené...) o pa ъé ʌocáь por un iьʌrumenʌo\n",
      "como el piano (Iъaá Alбeniɿ\n",
      "Claude Deбuъъy i Γaбé).\n"
     ]
    }
   ],
   "source": [
    "consonant_clusters_replaces = {\n",
    "    f'([{vowels}])[бn]ъ([{consonants}])' : r'\\1ь\\2'\n",
    "    }\n",
    "\n",
    "# Loop through the dictionary\n",
    "for key, value in consonant_clusters_replaces.items():\n",
    "    text = re.sub(key, value, text)\n",
    "\n",
    "show_text(text)"
   ]
  },
  {
   "cell_type": "markdown",
   "metadata": {},
   "source": [
    "Reductors are a set of consonants that, when grouped together, the first one is reduced to 'ь'. "
   ]
  },
  {
   "cell_type": "code",
   "execution_count": null,
   "metadata": {},
   "outputs": [
    {
     "name": "stdout",
     "output_type": "stream",
     "text": [
      "La ъerenaʌa eь una forma muъicá conɿeбía pa orceьʌa de cuerda\n",
      "de бienʌo\n",
      "miьʌa\n",
      "conьunʌo de cámara o percuъión.\n",
      "\n",
      "Fue un diбerʌimenʌo ce alcanɿó enorme popularidá duranʌe el ъiƨlo 18: La ъerenaʌa ъe ʌocaбa\n",
      "al anoчeɿé\n",
      "muчaь бeɿeь al aire liбre\n",
      "i aɿía laь deliɿiaь de laь бeláь en loь ьardineь de loь palaɿioь de loь ariьʌócraʌaь. Curioъamenʌe el nomбre no deriбa de ъera\n",
      "ce en iʌaliano eь «ʌarde»\n",
      "ъino de ъereno\n",
      "«calmáo» o «repoъáo». El oriьen de la ъerenaʌa eьʌá en laь бaláь ce loь enamoráoь canʌaбan frenʌe a laь бenʌanaь de la amá al aʌardeɿé cuando alƨo no aбía ъalío бien en la relaɿión.\n",
      "\n",
      "En el ъiƨlo 18\n",
      "coьʌaбa de aьʌa diéь moбimienʌoь. Wolьƨá Amadeuь Moɿá compuъo ʌreɿe ъerenaʌaь\n",
      "normalmenʌe pa ɿeleбrá un aьʌo ъoɿiá: бodaь\n",
      "fieьʌaь corʌeъanaь\n",
      "eьɿ. Laь ъerenaʌaь de Moɿá comienɿan con un moбimienʌo de marчa ce ʌiene forma de ъonaʌa; doь moбimienʌoь lenʌoь alʌennan con doь minueʌoь; ъiƨen un rondó i un finá mu бriyanʌe\n",
      "ce a бeɿeь ʌamбién eь una marчa. Ludwí бan Бeeʌoбen compuъo ъerenaʌaь con ʌrío de cuerdaь (Op.8) i pa flauʌa\n",
      "бiolín i бiola (Op.25). En el ъiƨlo 19 ъe compuъieron ъerenaʌaь pa orceьʌaь (Бramь\n",
      "Dбorá\n",
      "enʌre oʌroь). Ʌamбién ъe conɿiбen laь ъerenaʌaь como canɿión o lié (Fráь Ъчuбé\n",
      "Γiчá Ъʌrauьь\n",
      "Uƨo Wó\n",
      "Maъъené...) o pa ъé ʌocáь por un iьʌrumenʌo\n",
      "como el piano (Iъaá Alбeniɿ\n",
      "Claude Deбuъъy i Γaбé).\n"
     ]
    }
   ],
   "source": [
    "# Reductor colisions\n",
    "reductors = 'cƨʌdьъɿpбf'\n",
    "reductor_combinations = [''.join(pair) for pair in itertools.permutations(reductors, 2)]\n",
    "reductor_replaces = {pair : 'ь' + pair[1] for pair in reductor_combinations}\n",
    "\n",
    "# Loop through the dictionary\n",
    "for key, value in reductor_replaces.items():\n",
    "    text = re.sub(key, value, text)\n",
    "\n",
    "# 'n' acts as a reductor when placed after another reductor, but it is immune to this process\n",
    "text = re.sub(f'[{reductors}]n', r'ьn', text)\n",
    "\n",
    "show_text(text)"
   ]
  },
  {
   "cell_type": "markdown",
   "metadata": {},
   "source": []
  },
  {
   "cell_type": "code",
   "execution_count": null,
   "metadata": {},
   "outputs": [],
   "source": [
    "special_reductors = 'cƨʌdьъɿpб'"
   ]
  },
  {
   "cell_type": "markdown",
   "metadata": {},
   "source": [
    "Other specific changes"
   ]
  },
  {
   "cell_type": "code",
   "execution_count": null,
   "metadata": {},
   "outputs": [
    {
     "name": "stdout",
     "output_type": "stream",
     "text": [
      "La ъerenaʌa eь una forma muъicá conɿeбía pa orceьʌa de cuerda\n",
      "de бienʌo\n",
      "miьʌa\n",
      "conьunʌo de cámara o percuъión.\n",
      "\n",
      "Fue un diбerʌimenʌo ce alcanɿó enorme popularidá duranʌe el ъiƨlo 18: La ъerenaʌa ъe ʌocaбa\n",
      "al anoчeɿé\n",
      "muчaь бeɿeь al aire liбre\n",
      "i aɿía laь deliɿiaь de laь бeláь en loь ьardineь de loь palaɿioь de loь ariьʌócraʌaь. Curioъamenʌe el nomбre no deriбa de ъera\n",
      "ce en iʌaliano eь «ʌarde»\n",
      "ъino de ъereno\n",
      "«calmáo» o «repoъáo». El oriьen de la ъerenaʌa eьʌá en laь бaláь ce loь enamoráoь canʌaбan frenʌe a laь бenʌanaь de la amá al aʌardeɿé cuando alƨo no aбía ъalío бien en la relaɿión.\n",
      "\n",
      "En el ъiƨlo 18\n",
      "coьʌaбa de aьʌa diéь moбimienʌoь. Wolьƨá Amadeuь Moɿá compuъo ʌreɿe ъerenaʌaь\n",
      "normalmenʌe pa ɿeleбrá un aьʌo ъoɿiá: бodaь\n",
      "fieьʌaь corʌeъanaь\n",
      "eьɿ. Laь ъerenaʌaь de Moɿá comienɿan con un moбimienʌo de marчa ce ʌiene forma de ъonaʌa; doь moбimienʌoь lenʌoь alʌennan con doь minueʌoь; ъiƨen un rondó i un finá mu бriyanʌe\n",
      "ce a бeɿeь ʌamбién eь una marчa. Ludwí бan Бeʌoбen compuъo ъerenaʌaь con ʌrío de cuerdaь (Op.8) i pa flauʌa\n",
      "бiolín i бiola (Op.25). En el ъiƨlo 19 ъe compuъieron ъerenaʌaь pa orceьʌaь (Бramь\n",
      "Dбorá\n",
      "enʌre oʌroь). Ʌamбién ъe conɿiбen laь ъerenaʌaь como canɿión o lié (Fráь Ъчuбé\n",
      "Γiчá Ъʌrauьь\n",
      "Uƨo Wó\n",
      "Maъъené...) o pa ъé ʌocáь por un iьʌrumenʌo\n",
      "como el piano (Iъaá Alбeniɿ\n",
      "Claude Deбuъъy i Γaбé).\n"
     ]
    }
   ],
   "source": [
    "replaces = {\n",
    "    'nб' : 'mб',\n",
    "    'ee' : 'e',\n",
    "    'nm' : 'mm',\n",
    "}\n",
    "for key, value in replaces.items():\n",
    "    text = text.replace(key, value)\n",
    "\n",
    "show_text(text)"
   ]
  },
  {
   "cell_type": "markdown",
   "metadata": {},
   "source": [
    "# 7) Weak particles assimilation"
   ]
  },
  {
   "cell_type": "markdown",
   "metadata": {},
   "source": [
    "Several common use particles loose their vowels and are attached to nearby words, forming contractions."
   ]
  },
  {
   "cell_type": "code",
   "execution_count": null,
   "metadata": {},
   "outputs": [
    {
     "name": "stdout",
     "output_type": "stream",
     "text": [
      "La ъerenaʌa eь una forma muъicá conɿeбía pa orceьʌa de cuerda\n",
      "de бienʌo\n",
      "miьʌa\n",
      "conьunʌo de cámara o percuъión.\n",
      "\n",
      "Fue un diбerʌimenʌo c'alcanɿó enorme popularidá duranʌe'l ъiƨlo 18: La ъerenaʌa ъe ʌocaбa\n",
      "al anoчeɿé\n",
      "muчaь бeɿeь al aire liбre\n",
      "i aɿía laь deliɿiaь de laь бeláь en loь ьardineь de loь palaɿioь de loь ariьʌócraʌaь. Curioъamenʌe'l nomбre no deriбa de ъera\n",
      "c'en iʌaliano eь «ʌarde»\n",
      "ъino de ъereno\n",
      "«calmáo» o «repoъáo». El oriьen de la ъerenaʌa eьʌá'n laь бaláь ce loь enamoráoь canʌaбan frenʌe a laь бenʌanaь de l'amá al aʌardeɿé cuando alƨo no aбía ъalío бien en la relaɿión.\n",
      "\n",
      "En el ъiƨlo 18\n",
      "coьʌaбa d'aьʌa diéь moбimienʌoь. Wolьƨá Amadeuь Moɿá compuъo ʌreɿe ъerenaʌaь\n",
      "normalmenʌe pa ɿeleбrá un aьʌo ъoɿiá: бodaь\n",
      "fieьʌaь corʌeъanaь\n",
      "eьɿ. Laь ъerenaʌaь de Moɿá comienɿan con un moбimienʌo de marчa ce ʌiene forma de ъonaʌa; doь moбimienʌoь lenʌoь alʌennan con doь minueʌoь; ъiƨen un rondó i un finá mu бriyanʌe\n",
      "c'a бeɿeь ʌamбién eь una marчa. Ludwí бan Бeʌoбen compuъo ъerenaʌaь con ʌrío de cuerdaь (Op.8) i pa flauʌa\n",
      "бiolín i бiola (Op.25). En el ъiƨlo 19 ъe compuъieron ъerenaʌaь pa orceьʌaь (Бramь\n",
      "Dбorá\n",
      "enʌre oʌroь). Ʌamбién ъe conɿiбen laь ъerenaʌaь como canɿión o lié (Fráь Ъчuбé\n",
      "Γiчá Ъʌrauьь\n",
      "Uƨo Wó\n",
      "Maъъené...) o pa ъé ʌocáь por un iьʌrumenʌo\n",
      "como'l piano (Iъaá Alбeniɿ\n",
      "Claude Deбuъъy i Γaбé).\n"
     ]
    }
   ],
   "source": [
    "assimilations_dict = {\n",
    "    f'([{stopchars}])([dʌъlm])e ([{vowels}])' : r\"\\1\\2'\\3\",\n",
    "    f'([{stopchars}])([DɅЪLM])e ([{vowels}])' : r\"\\1\\2'\\3\",\n",
    "    f'([{stopchars}])c[eé] ([{vowels}])' : r\"\\1c'\\2\",\n",
    "    f'([{stopchars}])C[eé] ([{vowels}])' : r\"\\1C'\\2\",\n",
    "    f'([{stopchars}])la a' : r\"\\1l'a\",\n",
    "    f'([{stopchars}])La a' : r\"\\1L'a\",\n",
    "    f'([{stopchars}])lo o' : r\"\\1l'o\",\n",
    "    f'([{stopchars}])Lo o' : r\"\\1L'o\",\n",
    "    f'([aeoáéó]) e([ln])([{stopchars}])' : r\"\\1'\\2\\3\", # NOTE: review\n",
    "    f'([{vowels}]) e([{consonants}]{2,})' : r\"\\1'\\2\", # NOTE: review\n",
    "    f'o ([oóOÓ])' : r\"'\\1\",\n",
    "}\n",
    "\n",
    "for key, value in assimilations_dict.items():\n",
    "    text = re.sub(key, value, text)\n",
    "\n",
    "show_text(text)"
   ]
  },
  {
   "cell_type": "markdown",
   "metadata": {},
   "source": [
    "# 8) Rotacism"
   ]
  },
  {
   "cell_type": "markdown",
   "metadata": {},
   "source": [
    "'l' before 'r' can convert to 'r' before consonants in some speakers."
   ]
  },
  {
   "cell_type": "code",
   "execution_count": null,
   "metadata": {},
   "outputs": [
    {
     "name": "stdout",
     "output_type": "stream",
     "text": [
      "La ъerenaʌa eь una forma muъicá conɿeбía pa orceьʌa de cuerda\n",
      "de бienʌo\n",
      "miьʌa\n",
      "conьunʌo de cámara o percuъión.\n",
      "\n",
      "Fue un diбerʌimenʌo c'arcanɿó enorme popularidá duranʌe'r ъiƨlo 18: La ъerenaʌa ъe ʌocaбa\n",
      "al anoчeɿé\n",
      "muчaь бeɿeь al aire liбre\n",
      "i aɿía laь deliɿiaь de laь бeláь en loь ьardineь de loь palaɿioь de loь ariьʌócraʌaь. Curioъamenʌe'r nomбre no deriбa de ъera\n",
      "c'en iʌaliano eь «ʌarde»\n",
      "ъino de ъereno\n",
      "«carmáo» o «repoъáo». El oriьen de la ъerenaʌa eьʌá'n laь бaláь ce loь enamoráoь canʌaбan frenʌe a laь бenʌanaь de l'amá al aʌardeɿé cuando arƨo no aбía ъalío бien en la relaɿión.\n",
      "\n",
      "En er ъiƨlo 18\n",
      "coьʌaбa d'aьʌa diéь moбimienʌoь. Worьƨá Amadeuь Moɿá compuъo ʌreɿe ъerenaʌaь\n",
      "normarmenʌe pa ɿeleбrá un aьʌo ъoɿiá: бodaь\n",
      "fieьʌaь corʌeъanaь\n",
      "eьɿ. Laь ъerenaʌaь de Moɿá comienɿan con un moбimienʌo de marчa ce ʌiene forma de ъonaʌa; doь moбimienʌoь lenʌoь arʌennan con doь minueʌoь; ъiƨen un rondó i un finá mu бriyanʌe\n",
      "c'a бeɿeь ʌamбién eь una marчa. Ludwí бan Бeʌoбen compuъo ъerenaʌaь con ʌrío de cuerdaь (Op.8) i pa flauʌa\n",
      "бiolín i бiola (Op.25). En er ъiƨlo 19 ъe compuъieron ъerenaʌaь pa orceьʌaь (Бramь\n",
      "Dбorá\n",
      "enʌre oʌroь). Ʌamбién ъe conɿiбen laь ъerenaʌaь como canɿión o lié (Fráь Ъчuбé\n",
      "Γiчá Ъʌrauьь\n",
      "Uƨo Wó\n",
      "Maъъené...) o pa ъé ʌocáь por un iьʌrumenʌo\n",
      "como'r piano (Iъaá Arбeniɿ\n",
      "Claude Deбuъъy i Γaбé).\n"
     ]
    }
   ],
   "source": [
    "# Decide wheter to use rotacism or not\n",
    "rotacism = True\n",
    "\n",
    "# Apply rotacism\n",
    "if rotacism:\n",
    "    # Lowercase\n",
    "    pattern = f'l( ?)([{consonants}])'\n",
    "    output = r'r\\1\\2'\n",
    "    text = re.sub(pattern, output, text)\n",
    "\n",
    "    # Uppercase\n",
    "    pattern = f'L( ?)([{consonants}])'\n",
    "    output = r'Γ\\1'\n",
    "    text = re.sub(pattern, output, text)\n",
    "\n",
    "show_text(text)"
   ]
  },
  {
   "cell_type": "markdown",
   "metadata": {},
   "source": [
    "# 9) Space-separated 'r' assimilation"
   ]
  },
  {
   "cell_type": "markdown",
   "metadata": {},
   "source": [
    "If a word preserves a final 'r' and the next word starts with 'l' or 'n', the 'r' is assimilated."
   ]
  },
  {
   "cell_type": "code",
   "execution_count": null,
   "metadata": {},
   "outputs": [
    {
     "name": "stdout",
     "output_type": "stream",
     "text": [
      "La ъerenaʌa eь una forma muъicá conɿeбía pa orceьʌa de cuerda\n",
      "de бienʌo\n",
      "miьʌa\n",
      "conьunʌo de cámara o percuъión.\n",
      "\n",
      "Fue un diбerʌimenʌo c'arcanɿó enorme popularidá duranʌe'r ъiƨlo 18: La ъerenaʌa ъe ʌocaбa\n",
      "al anoчeɿé\n",
      "muчaь бeɿeь al aire liбre\n",
      "i aɿía laь deliɿiaь de laь бeláь en loь ьardineь de loь palaɿioь de loь ariьʌócraʌaь. Curioъamenʌe'n nomбre no deriбa de ъera\n",
      "c'en iʌaliano eь «ʌarde»\n",
      "ъino de ъereno\n",
      "«carmáo» o «repoъáo». El oriьen de la ъerenaʌa eьʌá'n laь бaláь ce loь enamoráoь canʌaбan frenʌe a laь бenʌanaь de l'amá al aʌardeɿé cuando arƨo no aбía ъalío бien en la relaɿión.\n",
      "\n",
      "En er ъiƨlo 18\n",
      "coьʌaбa d'aьʌa diéь moбimienʌoь. Worьƨá Amadeuь Moɿá compuъo ʌreɿe ъerenaʌaь\n",
      "normarmenʌe pa ɿeleбrá un aьʌo ъoɿiá: бodaь\n",
      "fieьʌaь corʌeъanaь\n",
      "eьɿ. Laь ъerenaʌaь de Moɿá comienɿan con un moбimienʌo de marчa ce ʌiene forma de ъonaʌa; doь moбimienʌoь lenʌoь arʌennan con doь minueʌoь; ъiƨen un rondó i un finá mu бriyanʌe\n",
      "c'a бeɿeь ʌamбién eь una marчa. Ludwí бan Бeʌoбen compuъo ъerenaʌaь con ʌrío de cuerdaь (Op.8) i pa flauʌa\n",
      "бiolín i бiola (Op.25). En er ъiƨlo 19 ъe compuъieron ъerenaʌaь pa orceьʌaь (Бramь\n",
      "Dбorá\n",
      "enʌre oʌroь). Ʌamбién ъe conɿiбen laь ъerenaʌaь como canɿión o lié (Fráь Ъчuбé\n",
      "Γiчá Ъʌrauьь\n",
      "Uƨo Wó\n",
      "Maъъené...) o pa ъé ʌocáь por un iьʌrumenʌo\n",
      "como'r piano (Iъaá Arбeniɿ\n",
      "Claude Deбuъъy i Γaбé).\n"
     ]
    }
   ],
   "source": [
    "# Apply space-separated \"r\" assimilation\n",
    "pattern = 'r ([lnLN])'\n",
    "output = r'\\1 \\1'\n",
    "text = re.sub(pattern, output, text)\n",
    "\n",
    "show_text(text)"
   ]
  },
  {
   "cell_type": "markdown",
   "metadata": {},
   "source": [
    "# Show results"
   ]
  },
  {
   "cell_type": "code",
   "execution_count": null,
   "metadata": {},
   "outputs": [
    {
     "name": "stdout",
     "output_type": "stream",
     "text": [
      "La ъerenaʌa eь una forma muъicá conɿeбía pa orceьʌa de cuerda\n",
      "de бienʌo\n",
      "miьʌa\n",
      "conьunʌo de cámara o percuъión.\n",
      "\n",
      "Fue un diбerʌimenʌo c'arcanɿó enorme popularidá duranʌe'r ъiƨlo 18: La ъerenaʌa ъe ʌocaбa\n",
      "al anoчeɿé\n",
      "muчaь бeɿeь al aire liбre\n",
      "i aɿía laь deliɿiaь de laь бeláь en loь ьardineь de loь palaɿioь de loь ariьʌócraʌaь. Curioъamenʌe'n nomбre no deriбa de ъera\n",
      "c'en iʌaliano eь «ʌarde»\n",
      "ъino de ъereno\n",
      "«carmáo» o «repoъáo». El oriьen de la ъerenaʌa eьʌá'n laь бaláь ce loь enamoráoь canʌaбan frenʌe a laь бenʌanaь de l'amá al aʌardeɿé cuando arƨo no aбía ъalío бien en la relaɿión.\n",
      "\n",
      "En er ъiƨlo 18\n",
      "coьʌaбa d'aьʌa diéь moбimienʌoь. Worьƨá Amadeuь Moɿá compuъo ʌreɿe ъerenaʌaь\n",
      "normarmenʌe pa ɿeleбrá un aьʌo ъoɿiá: бodaь\n",
      "fieьʌaь corʌeъanaь\n",
      "eьɿ. Laь ъerenaʌaь de Moɿá comienɿan con un moбimienʌo de marчa ce ʌiene forma de ъonaʌa; doь moбimienʌoь lenʌoь arʌennan con doь minueʌoь; ъiƨen un rondó i un finá mu бriyanʌe\n",
      "c'a бeɿeь ʌamбién eь una marчa. Ludwí бan Бeʌoбen compuъo ъerenaʌaь con ʌrío de cuerdaь (Op.8) i pa flauʌa\n",
      "бiolín i бiola (Op.25). En er ъiƨlo 19 ъe compuъieron ъerenaʌaь pa orceьʌaь (Бramь\n",
      "Dбorá\n",
      "enʌre oʌroь). Ʌamбién ъe conɿiбen laь ъerenaʌaь como canɿión o lié (Fráь Ъчuбé\n",
      "Γiчá Ъʌrauьь\n",
      "Uƨo Wó\n",
      "Maъъené...) o pa ъé ʌocáь por un iьʌrumenʌo\n",
      "como'r piano (Iъaá Arбeniɿ\n",
      "Claude Deбuъъy i Γaбé).\n"
     ]
    }
   ],
   "source": [
    "show_text(text)"
   ]
  }
 ],
 "metadata": {
  "kernelspec": {
   "display_name": "Python 3",
   "language": "python",
   "name": "python3"
  },
  "language_info": {
   "codemirror_mode": {
    "name": "ipython",
    "version": 3
   },
   "file_extension": ".py",
   "mimetype": "text/x-python",
   "name": "python",
   "nbconvert_exporter": "python",
   "pygments_lexer": "ipython3",
   "version": "3.12.2"
  }
 },
 "nbformat": 4,
 "nbformat_minor": 2
}
