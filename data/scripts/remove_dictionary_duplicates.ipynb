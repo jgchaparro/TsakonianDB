{
 "cells": [
  {
   "cell_type": "markdown",
   "metadata": {},
   "source": [
    "# Remove duplicates from Tsakonian dictionary"
   ]
  },
  {
   "cell_type": "markdown",
   "metadata": {},
   "source": [
    "# Preparation"
   ]
  },
  {
   "cell_type": "markdown",
   "metadata": {},
   "source": [
    "## Imports"
   ]
  },
  {
   "cell_type": "code",
   "execution_count": 1,
   "metadata": {},
   "outputs": [],
   "source": [
    "import pandas as pd"
   ]
  },
  {
   "cell_type": "markdown",
   "metadata": {},
   "source": [
    "## Raw data"
   ]
  },
  {
   "cell_type": "code",
   "execution_count": 9,
   "metadata": {},
   "outputs": [
    {
     "data": {
      "text/html": [
       "<div>\n",
       "<style scoped>\n",
       "    .dataframe tbody tr th:only-of-type {\n",
       "        vertical-align: middle;\n",
       "    }\n",
       "\n",
       "    .dataframe tbody tr th {\n",
       "        vertical-align: top;\n",
       "    }\n",
       "\n",
       "    .dataframe thead th {\n",
       "        text-align: right;\n",
       "    }\n",
       "</style>\n",
       "<table border=\"1\" class=\"dataframe\">\n",
       "  <thead>\n",
       "    <tr style=\"text-align: right;\">\n",
       "      <th></th>\n",
       "      <th>tsakonian</th>\n",
       "      <th>greek</th>\n",
       "      <th>type</th>\n",
       "      <th>source</th>\n",
       "    </tr>\n",
       "  </thead>\n",
       "  <tbody>\n",
       "    <tr>\n",
       "      <th>0</th>\n",
       "      <td>α</td>\n",
       "      <td>η</td>\n",
       "      <td>NaN</td>\n",
       "      <td>1</td>\n",
       "    </tr>\n",
       "    <tr>\n",
       "      <th>1</th>\n",
       "      <td>αβαίνου</td>\n",
       "      <td>λαβαίνω</td>\n",
       "      <td>Ρ</td>\n",
       "      <td>1</td>\n",
       "    </tr>\n",
       "    <tr>\n",
       "      <th>2</th>\n",
       "      <td>αβζ̌ύντου</td>\n",
       "      <td>υποφέρω από δίψα, ουρλιάζω</td>\n",
       "      <td>Ρ</td>\n",
       "      <td>1</td>\n",
       "    </tr>\n",
       "    <tr>\n",
       "      <th>3</th>\n",
       "      <td>αβούκ̇ου</td>\n",
       "      <td>λαβώνω</td>\n",
       "      <td>Ρ</td>\n",
       "      <td>1</td>\n",
       "    </tr>\n",
       "    <tr>\n",
       "      <th>4</th>\n",
       "      <td>αβουτάνα</td>\n",
       "      <td>αυτί</td>\n",
       "      <td>Θ1</td>\n",
       "      <td>1</td>\n",
       "    </tr>\n",
       "  </tbody>\n",
       "</table>\n",
       "</div>"
      ],
      "text/plain": [
       "   tsakonian                       greek type source\n",
       "0          α                           η  NaN      1\n",
       "1    αβαίνου                     λαβαίνω    Ρ      1\n",
       "2  αβζ̌ύντου  υποφέρω από δίψα, ουρλιάζω    Ρ      1\n",
       "3   αβούκ̇ου                      λαβώνω    Ρ      1\n",
       "4   αβουτάνα                        αυτί   Θ1      1"
      ]
     },
     "execution_count": 9,
     "metadata": {},
     "output_type": "execute_result"
    }
   ],
   "source": [
    "# Read the dictionary\n",
    "dict_path = r'../tables/main.xlsx'\n",
    "df = pd.read_excel(dict_path)\n",
    "df.head()"
   ]
  },
  {
   "cell_type": "code",
   "execution_count": 10,
   "metadata": {},
   "outputs": [
    {
     "data": {
      "text/html": [
       "<div>\n",
       "<style scoped>\n",
       "    .dataframe tbody tr th:only-of-type {\n",
       "        vertical-align: middle;\n",
       "    }\n",
       "\n",
       "    .dataframe tbody tr th {\n",
       "        vertical-align: top;\n",
       "    }\n",
       "\n",
       "    .dataframe thead th {\n",
       "        text-align: right;\n",
       "    }\n",
       "</style>\n",
       "<table border=\"1\" class=\"dataframe\">\n",
       "  <thead>\n",
       "    <tr style=\"text-align: right;\">\n",
       "      <th></th>\n",
       "      <th>tsakonian</th>\n",
       "      <th>greek</th>\n",
       "      <th>type</th>\n",
       "      <th>source</th>\n",
       "    </tr>\n",
       "  </thead>\n",
       "  <tbody>\n",
       "    <tr>\n",
       "      <th>40</th>\n",
       "      <td>αού</td>\n",
       "      <td>λέω</td>\n",
       "      <td>Ρ</td>\n",
       "      <td>1</td>\n",
       "    </tr>\n",
       "    <tr>\n",
       "      <th>41</th>\n",
       "      <td>αού</td>\n",
       "      <td>λέω</td>\n",
       "      <td>Ρ</td>\n",
       "      <td>1</td>\n",
       "    </tr>\n",
       "    <tr>\n",
       "      <th>50</th>\n",
       "      <td>αποσούκ̇ου</td>\n",
       "      <td>πηγαίνω, μεταφέρω</td>\n",
       "      <td>Ρ</td>\n",
       "      <td>1</td>\n",
       "    </tr>\n",
       "    <tr>\n",
       "      <th>51</th>\n",
       "      <td>αποσούκ̇ου</td>\n",
       "      <td>πηγαίνω, μεταφέρω</td>\n",
       "      <td>Ρ</td>\n",
       "      <td>1</td>\n",
       "    </tr>\n",
       "    <tr>\n",
       "      <th>59</th>\n",
       "      <td>απρούκ̇ου</td>\n",
       "      <td>απλώνω</td>\n",
       "      <td>Ρ</td>\n",
       "      <td>1</td>\n",
       "    </tr>\n",
       "    <tr>\n",
       "      <th>...</th>\n",
       "      <td>...</td>\n",
       "      <td>...</td>\n",
       "      <td>...</td>\n",
       "      <td>...</td>\n",
       "    </tr>\n",
       "    <tr>\n",
       "      <th>390</th>\n",
       "      <td>χάνου</td>\n",
       "      <td>χάνω</td>\n",
       "      <td>Ρ</td>\n",
       "      <td>1</td>\n",
       "    </tr>\n",
       "    <tr>\n",
       "      <th>391</th>\n",
       "      <td>χαού</td>\n",
       "      <td>χαλάω</td>\n",
       "      <td>Ρ</td>\n",
       "      <td>1</td>\n",
       "    </tr>\n",
       "    <tr>\n",
       "      <th>392</th>\n",
       "      <td>χαού</td>\n",
       "      <td>χαλάω</td>\n",
       "      <td>Ρ</td>\n",
       "      <td>1</td>\n",
       "    </tr>\n",
       "    <tr>\n",
       "      <th>397</th>\n",
       "      <td>ψαφού</td>\n",
       "      <td>ψάχνω</td>\n",
       "      <td>Ρ</td>\n",
       "      <td>1</td>\n",
       "    </tr>\n",
       "    <tr>\n",
       "      <th>398</th>\n",
       "      <td>ψαφού</td>\n",
       "      <td>ψάχνω</td>\n",
       "      <td>Ρ</td>\n",
       "      <td>1</td>\n",
       "    </tr>\n",
       "  </tbody>\n",
       "</table>\n",
       "<p>102 rows × 4 columns</p>\n",
       "</div>"
      ],
      "text/plain": [
       "      tsakonian              greek type source\n",
       "40          αού                λέω    Ρ      1\n",
       "41          αού                λέω    Ρ      1\n",
       "50   αποσούκ̇ου  πηγαίνω, μεταφέρω    Ρ      1\n",
       "51   αποσούκ̇ου  πηγαίνω, μεταφέρω    Ρ      1\n",
       "59    απρούκ̇ου             απλώνω    Ρ      1\n",
       "..          ...                ...  ...    ...\n",
       "390       χάνου               χάνω    Ρ      1\n",
       "391        χαού              χαλάω    Ρ      1\n",
       "392        χαού              χαλάω    Ρ      1\n",
       "397       ψαφού              ψάχνω    Ρ      1\n",
       "398       ψαφού              ψάχνω    Ρ      1\n",
       "\n",
       "[102 rows x 4 columns]"
      ]
     },
     "execution_count": 10,
     "metadata": {},
     "output_type": "execute_result"
    }
   ],
   "source": [
    "# Show duplicated entries\n",
    "df[df.duplicated(keep=False)]"
   ]
  },
  {
   "cell_type": "code",
   "execution_count": 11,
   "metadata": {},
   "outputs": [
    {
     "name": "stdout",
     "output_type": "stream",
     "text": [
      "Number of entries before: 401\n",
      "Number of entries after: 350\n"
     ]
    },
    {
     "data": {
      "text/html": [
       "<div>\n",
       "<style scoped>\n",
       "    .dataframe tbody tr th:only-of-type {\n",
       "        vertical-align: middle;\n",
       "    }\n",
       "\n",
       "    .dataframe tbody tr th {\n",
       "        vertical-align: top;\n",
       "    }\n",
       "\n",
       "    .dataframe thead th {\n",
       "        text-align: right;\n",
       "    }\n",
       "</style>\n",
       "<table border=\"1\" class=\"dataframe\">\n",
       "  <thead>\n",
       "    <tr style=\"text-align: right;\">\n",
       "      <th></th>\n",
       "      <th>tsakonian</th>\n",
       "      <th>greek</th>\n",
       "      <th>type</th>\n",
       "      <th>source</th>\n",
       "    </tr>\n",
       "  </thead>\n",
       "  <tbody>\n",
       "    <tr>\n",
       "      <th>0</th>\n",
       "      <td>α</td>\n",
       "      <td>η</td>\n",
       "      <td>NaN</td>\n",
       "      <td>1</td>\n",
       "    </tr>\n",
       "    <tr>\n",
       "      <th>1</th>\n",
       "      <td>αβαίνου</td>\n",
       "      <td>λαβαίνω</td>\n",
       "      <td>Ρ</td>\n",
       "      <td>1</td>\n",
       "    </tr>\n",
       "    <tr>\n",
       "      <th>2</th>\n",
       "      <td>αβζ̌ύντου</td>\n",
       "      <td>υποφέρω από δίψα, ουρλιάζω</td>\n",
       "      <td>Ρ</td>\n",
       "      <td>1</td>\n",
       "    </tr>\n",
       "    <tr>\n",
       "      <th>3</th>\n",
       "      <td>αβούκ̇ου</td>\n",
       "      <td>λαβώνω</td>\n",
       "      <td>Ρ</td>\n",
       "      <td>1</td>\n",
       "    </tr>\n",
       "    <tr>\n",
       "      <th>4</th>\n",
       "      <td>αβουτάνα</td>\n",
       "      <td>αυτί</td>\n",
       "      <td>Θ1</td>\n",
       "      <td>1</td>\n",
       "    </tr>\n",
       "  </tbody>\n",
       "</table>\n",
       "</div>"
      ],
      "text/plain": [
       "   tsakonian                       greek type source\n",
       "0          α                           η  NaN      1\n",
       "1    αβαίνου                     λαβαίνω    Ρ      1\n",
       "2  αβζ̌ύντου  υποφέρω από δίψα, ουρλιάζω    Ρ      1\n",
       "3   αβούκ̇ου                      λαβώνω    Ρ      1\n",
       "4   αβουτάνα                        αυτί   Θ1      1"
      ]
     },
     "execution_count": 11,
     "metadata": {},
     "output_type": "execute_result"
    }
   ],
   "source": [
    "# Remove duplicated entries\n",
    "print(f'Number of entries before: {len(df)}')\n",
    "clean_df = df.drop_duplicates()\n",
    "print(f'Number of entries after: {len(clean_df)}')\n",
    "clean_df.head()"
   ]
  },
  {
   "cell_type": "code",
   "execution_count": 12,
   "metadata": {},
   "outputs": [],
   "source": [
    "# Save back to Excel\n",
    "clean_df.to_excel(dict_path, index=False)"
   ]
  }
 ],
 "metadata": {
  "kernelspec": {
   "display_name": "Python 3",
   "language": "python",
   "name": "python3"
  },
  "language_info": {
   "codemirror_mode": {
    "name": "ipython",
    "version": 3
   },
   "file_extension": ".py",
   "mimetype": "text/x-python",
   "name": "python",
   "nbconvert_exporter": "python",
   "pygments_lexer": "ipython3",
   "version": "3.10.9"
  },
  "orig_nbformat": 4
 },
 "nbformat": 4,
 "nbformat_minor": 2
}
