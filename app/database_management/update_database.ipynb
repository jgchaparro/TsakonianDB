{
 "cells": [
  {
   "cell_type": "markdown",
   "metadata": {},
   "source": [
    "# Database connection test"
   ]
  },
  {
   "cell_type": "markdown",
   "metadata": {},
   "source": [
    "# Preparation"
   ]
  },
  {
   "cell_type": "code",
   "execution_count": 1,
   "metadata": {},
   "outputs": [],
   "source": [
    "# Imports\n",
    "import sqlite3\n",
    "import pandas as pd"
   ]
  },
  {
   "cell_type": "markdown",
   "metadata": {},
   "source": [
    "## Main connection"
   ]
  },
  {
   "cell_type": "code",
   "execution_count": 2,
   "metadata": {},
   "outputs": [],
   "source": [
    "# Connect to main database\n",
    "db_path = '../TsakonianDB.sqlite3'\n",
    "conn = sqlite3.connect(db_path)"
   ]
  },
  {
   "cell_type": "markdown",
   "metadata": {},
   "source": [
    "## Auxiliary functions"
   ]
  },
  {
   "cell_type": "code",
   "execution_count": 3,
   "metadata": {},
   "outputs": [],
   "source": [
    "def query(query: str,\n",
    "          cursor = conn.cursor()):\n",
    "\n",
    "      cursor.execute(query)\n",
    "      fetched = cursor.fetchall()\n",
    "\n",
    "      if len(fetched) > 0:\n",
    "            temp_df = pd.DataFrame(fetched, columns=[i[0] for i in cursor.description])\n",
    "            return temp_df\n",
    "      else:\n",
    "            print('Query executed successfully. No results to show.')"
   ]
  },
  {
   "cell_type": "markdown",
   "metadata": {},
   "source": [
    "# Add words from main dictionary to the database"
   ]
  },
  {
   "cell_type": "markdown",
   "metadata": {},
   "source": [
    "## Load dictionary"
   ]
  },
  {
   "cell_type": "code",
   "execution_count": 10,
   "metadata": {},
   "outputs": [
    {
     "data": {
      "text/html": [
       "<div>\n",
       "<style scoped>\n",
       "    .dataframe tbody tr th:only-of-type {\n",
       "        vertical-align: middle;\n",
       "    }\n",
       "\n",
       "    .dataframe tbody tr th {\n",
       "        vertical-align: top;\n",
       "    }\n",
       "\n",
       "    .dataframe thead th {\n",
       "        text-align: right;\n",
       "    }\n",
       "</style>\n",
       "<table border=\"1\" class=\"dataframe\">\n",
       "  <thead>\n",
       "    <tr style=\"text-align: right;\">\n",
       "      <th></th>\n",
       "      <th>tsakonian</th>\n",
       "      <th>greek</th>\n",
       "      <th>paradigm</th>\n",
       "      <th>source_id</th>\n",
       "    </tr>\n",
       "  </thead>\n",
       "  <tbody>\n",
       "    <tr>\n",
       "      <th>0</th>\n",
       "      <td>άγο</td>\n",
       "      <td>άλογο</td>\n",
       "      <td>Α0</td>\n",
       "      <td>1</td>\n",
       "    </tr>\n",
       "    <tr>\n",
       "      <th>1</th>\n",
       "      <td>άγουστε</td>\n",
       "      <td>αύγουστος</td>\n",
       "      <td>NaN</td>\n",
       "      <td>1</td>\n",
       "    </tr>\n",
       "    <tr>\n",
       "      <th>2</th>\n",
       "      <td>άθρωπο</td>\n",
       "      <td>άνθροπος</td>\n",
       "      <td>Α1</td>\n",
       "      <td>1</td>\n",
       "    </tr>\n",
       "    <tr>\n",
       "      <th>3</th>\n",
       "      <td>άι</td>\n",
       "      <td>λάδι</td>\n",
       "      <td>Υ0</td>\n",
       "      <td>1</td>\n",
       "    </tr>\n",
       "    <tr>\n",
       "      <th>4</th>\n",
       "      <td>άλητε</td>\n",
       "      <td>αλεύρι</td>\n",
       "      <td>Υ1</td>\n",
       "      <td>1</td>\n",
       "    </tr>\n",
       "    <tr>\n",
       "      <th>...</th>\n",
       "      <td>...</td>\n",
       "      <td>...</td>\n",
       "      <td>...</td>\n",
       "      <td>...</td>\n",
       "    </tr>\n",
       "    <tr>\n",
       "      <th>588</th>\n",
       "      <td>λεκό</td>\n",
       "      <td>λευκός</td>\n",
       "      <td>Ε</td>\n",
       "      <td>1</td>\n",
       "    </tr>\n",
       "    <tr>\n",
       "      <th>589</th>\n",
       "      <td>βρέο</td>\n",
       "      <td>οβριός</td>\n",
       "      <td>NaN</td>\n",
       "      <td>1</td>\n",
       "    </tr>\n",
       "    <tr>\n",
       "      <th>590</th>\n",
       "      <td>καφέ</td>\n",
       "      <td>καφές</td>\n",
       "      <td>Α</td>\n",
       "      <td>1</td>\n",
       "    </tr>\n",
       "    <tr>\n",
       "      <th>591</th>\n",
       "      <td>πέτσ̌ε</td>\n",
       "      <td>πέτρα</td>\n",
       "      <td>NaN</td>\n",
       "      <td>1</td>\n",
       "    </tr>\n",
       "    <tr>\n",
       "      <th>592</th>\n",
       "      <td>πουλί</td>\n",
       "      <td>πουλί</td>\n",
       "      <td>NaN</td>\n",
       "      <td>1</td>\n",
       "    </tr>\n",
       "  </tbody>\n",
       "</table>\n",
       "<p>593 rows × 4 columns</p>\n",
       "</div>"
      ],
      "text/plain": [
       "    tsakonian      greek paradigm  source_id\n",
       "0         άγο      άλογο       Α0          1\n",
       "1     άγουστε  αύγουστος      NaN          1\n",
       "2      άθρωπο   άνθροπος       Α1          1\n",
       "3          άι       λάδι       Υ0          1\n",
       "4       άλητε     αλεύρι       Υ1          1\n",
       "..        ...        ...      ...        ...\n",
       "588      λεκό     λευκός        Ε          1\n",
       "589      βρέο     οβριός      NaN          1\n",
       "590      καφέ      καφές        Α          1\n",
       "591    πέτσ̌ε      πέτρα      NaN          1\n",
       "592     πουλί      πουλί      NaN          1\n",
       "\n",
       "[593 rows x 4 columns]"
      ]
     },
     "execution_count": 10,
     "metadata": {},
     "output_type": "execute_result"
    }
   ],
   "source": [
    "# Load main dictionary\n",
    "main_df_path = '../../data/tables/main.xlsx'\n",
    "main_df = pd.read_excel(main_df_path)\n",
    "main_df"
   ]
  },
  {
   "cell_type": "markdown",
   "metadata": {},
   "source": [
    "## Manage duplicates"
   ]
  },
  {
   "cell_type": "code",
   "execution_count": 11,
   "metadata": {},
   "outputs": [
    {
     "name": "stdout",
     "output_type": "stream",
     "text": [
      "Entries before removing duplicates: 593\n",
      "Entries after removing duplicates: 590\n"
     ]
    }
   ],
   "source": [
    "# Remove duplicates with the exact same information\n",
    "print(f'Entries before removing duplicates: {len(main_df)}')\n",
    "main_df = main_df.drop_duplicates()\n",
    "print(f'Entries after removing duplicates: {len(main_df)}')"
   ]
  },
  {
   "cell_type": "code",
   "execution_count": 12,
   "metadata": {},
   "outputs": [
    {
     "data": {
      "text/html": [
       "<div>\n",
       "<style scoped>\n",
       "    .dataframe tbody tr th:only-of-type {\n",
       "        vertical-align: middle;\n",
       "    }\n",
       "\n",
       "    .dataframe tbody tr th {\n",
       "        vertical-align: top;\n",
       "    }\n",
       "\n",
       "    .dataframe thead th {\n",
       "        text-align: right;\n",
       "    }\n",
       "</style>\n",
       "<table border=\"1\" class=\"dataframe\">\n",
       "  <thead>\n",
       "    <tr style=\"text-align: right;\">\n",
       "      <th></th>\n",
       "      <th>tsakonian</th>\n",
       "      <th>greek</th>\n",
       "      <th>paradigm</th>\n",
       "      <th>source_id</th>\n",
       "    </tr>\n",
       "  </thead>\n",
       "  <tbody>\n",
       "    <tr>\n",
       "      <th>22</th>\n",
       "      <td>έτρου</td>\n",
       "      <td>έτσι</td>\n",
       "      <td>Ζ</td>\n",
       "      <td>1</td>\n",
       "    </tr>\n",
       "    <tr>\n",
       "      <th>530</th>\n",
       "      <td>έτρου</td>\n",
       "      <td>έτσι</td>\n",
       "      <td>NaN</td>\n",
       "      <td>1</td>\n",
       "    </tr>\n",
       "  </tbody>\n",
       "</table>\n",
       "</div>"
      ],
      "text/plain": [
       "    tsakonian greek paradigm  source_id\n",
       "22      έτρου  έτσι        Ζ          1\n",
       "530     έτρου  έτσι      NaN          1"
      ]
     },
     "execution_count": 12,
     "metadata": {},
     "output_type": "execute_result"
    }
   ],
   "source": [
    "# Show duplicates\n",
    "main_df[main_df.duplicated(subset = 'tsakonian', keep = False)].sort_values(by = 'tsakonian')"
   ]
  },
  {
   "cell_type": "code",
   "execution_count": 13,
   "metadata": {},
   "outputs": [
    {
     "name": "stdout",
     "output_type": "stream",
     "text": [
      "Entries before removing duplicates: 590\n",
      "Entries after removing duplicates: 589\n"
     ]
    },
    {
     "data": {
      "text/html": [
       "<div>\n",
       "<style scoped>\n",
       "    .dataframe tbody tr th:only-of-type {\n",
       "        vertical-align: middle;\n",
       "    }\n",
       "\n",
       "    .dataframe tbody tr th {\n",
       "        vertical-align: top;\n",
       "    }\n",
       "\n",
       "    .dataframe thead th {\n",
       "        text-align: right;\n",
       "    }\n",
       "</style>\n",
       "<table border=\"1\" class=\"dataframe\">\n",
       "  <thead>\n",
       "    <tr style=\"text-align: right;\">\n",
       "      <th></th>\n",
       "      <th>tsakonian</th>\n",
       "      <th>greek</th>\n",
       "      <th>paradigm</th>\n",
       "      <th>source_id</th>\n",
       "    </tr>\n",
       "  </thead>\n",
       "  <tbody>\n",
       "    <tr>\n",
       "      <th>0</th>\n",
       "      <td>άγο</td>\n",
       "      <td>άλογο</td>\n",
       "      <td>Α0</td>\n",
       "      <td>1</td>\n",
       "    </tr>\n",
       "    <tr>\n",
       "      <th>1</th>\n",
       "      <td>άγουστε</td>\n",
       "      <td>αύγουστος</td>\n",
       "      <td>NaN</td>\n",
       "      <td>1</td>\n",
       "    </tr>\n",
       "    <tr>\n",
       "      <th>2</th>\n",
       "      <td>άζ̌α</td>\n",
       "      <td>αραία, όχι συχνά</td>\n",
       "      <td>NaN</td>\n",
       "      <td>1</td>\n",
       "    </tr>\n",
       "    <tr>\n",
       "      <th>3</th>\n",
       "      <td>άθρωπο</td>\n",
       "      <td>άνθροπος</td>\n",
       "      <td>Α1</td>\n",
       "      <td>1</td>\n",
       "    </tr>\n",
       "    <tr>\n",
       "      <th>4</th>\n",
       "      <td>άι</td>\n",
       "      <td>λάδι</td>\n",
       "      <td>Υ0</td>\n",
       "      <td>1</td>\n",
       "    </tr>\n",
       "    <tr>\n",
       "      <th>...</th>\n",
       "      <td>...</td>\n",
       "      <td>...</td>\n",
       "      <td>...</td>\n",
       "      <td>...</td>\n",
       "    </tr>\n",
       "    <tr>\n",
       "      <th>584</th>\n",
       "      <td>όνε</td>\n",
       "      <td>γάιδαρος</td>\n",
       "      <td>Α3</td>\n",
       "      <td>1</td>\n",
       "    </tr>\n",
       "    <tr>\n",
       "      <th>585</th>\n",
       "      <td>όρεγι</td>\n",
       "      <td>εδώ ακριβώς</td>\n",
       "      <td>Ζ</td>\n",
       "      <td>1</td>\n",
       "    </tr>\n",
       "    <tr>\n",
       "      <th>586</th>\n",
       "      <td>όρπα</td>\n",
       "      <td>εκεί</td>\n",
       "      <td>Ζ</td>\n",
       "      <td>1</td>\n",
       "    </tr>\n",
       "    <tr>\n",
       "      <th>587</th>\n",
       "      <td>ότσι</td>\n",
       "      <td>ότι</td>\n",
       "      <td>Ζ</td>\n",
       "      <td>1</td>\n",
       "    </tr>\n",
       "    <tr>\n",
       "      <th>588</th>\n",
       "      <td>ύο</td>\n",
       "      <td>νερό</td>\n",
       "      <td>Υ0</td>\n",
       "      <td>1</td>\n",
       "    </tr>\n",
       "  </tbody>\n",
       "</table>\n",
       "<p>589 rows × 4 columns</p>\n",
       "</div>"
      ],
      "text/plain": [
       "    tsakonian             greek paradigm  source_id\n",
       "0         άγο             άλογο       Α0          1\n",
       "1     άγουστε         αύγουστος      NaN          1\n",
       "2        άζ̌α  αραία, όχι συχνά      NaN          1\n",
       "3      άθρωπο          άνθροπος       Α1          1\n",
       "4          άι              λάδι       Υ0          1\n",
       "..        ...               ...      ...        ...\n",
       "584       όνε          γάιδαρος       Α3          1\n",
       "585     όρεγι       εδώ ακριβώς        Ζ          1\n",
       "586      όρπα              εκεί        Ζ          1\n",
       "587      ότσι               ότι        Ζ          1\n",
       "588        ύο              νερό       Υ0          1\n",
       "\n",
       "[589 rows x 4 columns]"
      ]
     },
     "execution_count": 13,
     "metadata": {},
     "output_type": "execute_result"
    }
   ],
   "source": [
    "# Keep the duplicate with the lowest ID\n",
    "print(f'Entries before removing duplicates: {len(main_df)}')\n",
    "main_df = (main_df\n",
    "           .sort_index()\n",
    "           .drop_duplicates(subset = 'tsakonian', keep = 'first')\n",
    "           .sort_values(by = 'tsakonian')\n",
    "           .reset_index(drop = True)\n",
    "           )\n",
    "print(f'Entries after removing duplicates: {len(main_df)}')\n",
    "main_df"
   ]
  },
  {
   "cell_type": "markdown",
   "metadata": {},
   "source": [
    "## Save to main Excel"
   ]
  },
  {
   "cell_type": "code",
   "execution_count": 14,
   "metadata": {},
   "outputs": [
    {
     "name": "stdout",
     "output_type": "stream",
     "text": [
      "Changes consolidated.\n"
     ]
    }
   ],
   "source": [
    "# Save main_df back to the Excel file\n",
    "main_df.to_excel(main_df_path, index = False)\n",
    "print('Changes consolidated.')"
   ]
  },
  {
   "cell_type": "code",
   "execution_count": 15,
   "metadata": {},
   "outputs": [
    {
     "name": "stdout",
     "output_type": "stream",
     "text": [
      "Query executed successfully. No results to show.\n",
      "Query executed successfully. No results to show.\n",
      "Query executed successfully. No results to show.\n",
      "Query executed successfully. No results to show.\n",
      "Query executed successfully. No results to show.\n",
      "Query executed successfully. No results to show.\n",
      "Query executed successfully. No results to show.\n",
      "Query executed successfully. No results to show.\n",
      "Query executed successfully. No results to show.\n"
     ]
    }
   ],
   "source": [
    "# Load main dictionary\n",
    "main_df = pd.read_excel(main_df_path)\n",
    "\n",
    "# Copy the full dictionary into the database\n",
    "main_df.to_sql('dictionary_entry', \n",
    "               conn, \n",
    "               if_exists='replace', \n",
    "               index=False,\n",
    "               dtype = {'tsakonian': 'varchar(50)',\n",
    "                        'greek': 'varchar(200)',\n",
    "                        'paradigm': 'varchar(5)',\n",
    "                        'source_id': 'bigint',\n",
    "               })\n",
    "\n",
    "# Delete the temporary table if it exists\n",
    "try:\n",
    "    query(\"DROP TABLE sqlitestudio_temp_table;\")\n",
    "except:\n",
    "    pass\n",
    "\n",
    "# Add primary keys and foreign keys by recreating the table\n",
    "# Obtained from SQLiteStudio\n",
    "recreating_query = \"\"\"PRAGMA foreign_keys = 0;\n",
    "\n",
    "CREATE TABLE sqlitestudio_temp_table AS SELECT *\n",
    "                                          FROM dictionary_entry;\n",
    "\n",
    "DROP TABLE dictionary_entry;\n",
    "\n",
    "CREATE TABLE dictionary_entry (\n",
    "    tsakonian VARCHAR (50)  PRIMARY KEY\n",
    "                            NOT NULL,\n",
    "    greek     VARCHAR (200),\n",
    "    paradigm  VARCHAR (5),\n",
    "    source_id    INTEGER       REFERENCES dictionary_source (id) \n",
    ");\n",
    "\n",
    "INSERT INTO dictionary_entry (\n",
    "                                 tsakonian,\n",
    "                                 greek,\n",
    "                                 paradigm,\n",
    "                                 source_id\n",
    "                             )\n",
    "                             SELECT tsakonian,\n",
    "                                    greek,\n",
    "                                    paradigm,\n",
    "                                    source_id\n",
    "                               FROM sqlitestudio_temp_table;\n",
    "\n",
    "DROP TABLE sqlitestudio_temp_table;\n",
    "\n",
    "PRAGMA foreign_keys = 1;\"\"\"\n",
    "\n",
    "# Execute queries in a loop\n",
    "# Only one query can be executed at a time\n",
    "for q in recreating_query.split(';'):\n",
    "      query(q)\n",
    "\n",
    "# Save changes\n",
    "conn.commit()"
   ]
  }
 ],
 "metadata": {
  "kernelspec": {
   "display_name": "tsakonian_env",
   "language": "python",
   "name": "python3"
  },
  "language_info": {
   "codemirror_mode": {
    "name": "ipython",
    "version": 3
   },
   "file_extension": ".py",
   "mimetype": "text/x-python",
   "name": "python",
   "nbconvert_exporter": "python",
   "pygments_lexer": "ipython3",
   "version": "3.10.9"
  },
  "orig_nbformat": 4
 },
 "nbformat": 4,
 "nbformat_minor": 2
}
